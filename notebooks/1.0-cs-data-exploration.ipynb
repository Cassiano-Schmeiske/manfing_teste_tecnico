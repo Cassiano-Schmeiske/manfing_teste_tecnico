{
 "cells": [
  {
   "cell_type": "markdown",
   "id": "2aa4d4dd",
   "metadata": {},
   "source": [
    "**Este notebook foi utilizado exclusivamente para análise do conjunto de dados e entendimento do negócio. Construção de novas Features e Funções que serão utilizadas na sequencia do desenvolvimento do projeto.**\n",
    "\n"
   ]
  },
  {
   "cell_type": "markdown",
   "id": "a1e210c2",
   "metadata": {},
   "source": [
    "# 0.0. Imports"
   ]
  },
  {
   "cell_type": "code",
   "execution_count": 132,
   "id": "f7fe1b48",
   "metadata": {
    "ExecuteTime": {
     "end_time": "2022-07-15T00:47:41.728738Z",
     "start_time": "2022-07-15T00:47:41.725996Z"
    }
   },
   "outputs": [],
   "source": [
    "import pandas     as pd\n",
    "import numpy      as np\n",
    "import seaborn    as sns\n",
    "import datetime   as dt\n",
    "\n",
    "import inflection\n",
    "import pickle\n",
    "\n",
    "from plotly           import express  as px\n",
    "from matplotlib       import pyplot   as plt\n",
    "from pandas_profiling import ProfileReport\n",
    "\n",
    "from IPython.display import HTML"
   ]
  },
  {
   "cell_type": "markdown",
   "id": "39bff33a",
   "metadata": {},
   "source": [
    "## 0.1. Helper Function"
   ]
  },
  {
   "cell_type": "code",
   "execution_count": 133,
   "id": "4ae2ae06",
   "metadata": {
    "ExecuteTime": {
     "end_time": "2022-07-15T00:47:44.973287Z",
     "start_time": "2022-07-15T00:47:44.968195Z"
    }
   },
   "outputs": [],
   "source": [
    "def get_month(x): \n",
    "    return dt.datetime(x.year, x.month, 1) \n",
    "\n",
    "\n",
    "def jupyter_settings():\n",
    "    %matplotlib inline\n",
    "    %pylab inline\n",
    "    \n",
    "    plt.style.use( 'bmh' )\n",
    "    plt.rcParams['figure.figsize'] = [25, 12]\n",
    "    plt.rcParams['font.size'] = 24\n",
    "    \n",
    "    display( HTML( '<style>.container { width:100% !important; }</style>') )\n",
    "    pd.options.display.max_columns = None\n",
    "    pd.options.display.max_rows = None\n",
    "    pd.set_option( 'display.expand_frame_repr', False )\n",
    "    \n",
    "    sns.set()"
   ]
  },
  {
   "cell_type": "code",
   "execution_count": 136,
   "id": "f24bc1e4",
   "metadata": {
    "ExecuteTime": {
     "end_time": "2022-07-15T00:49:26.606107Z",
     "start_time": "2022-07-15T00:49:26.530588Z"
    }
   },
   "outputs": [
    {
     "name": "stdout",
     "output_type": "stream",
     "text": [
      "%pylab is deprecated, use %matplotlib inline and import the required libraries.\n",
      "Populating the interactive namespace from numpy and matplotlib\n"
     ]
    },
    {
     "data": {
      "text/html": [
       "<style>.container { width:100% !important; }</style>"
      ],
      "text/plain": [
       "<IPython.core.display.HTML object>"
      ]
     },
     "metadata": {},
     "output_type": "display_data"
    },
    {
     "name": "stderr",
     "output_type": "stream",
     "text": [
      "/opt/anaconda/envs/manfing/lib/python3.9/site-packages/seaborn/rcmod.py:400: DeprecationWarning:\n",
      "\n",
      "distutils Version classes are deprecated. Use packaging.version instead.\n",
      "\n",
      "/opt/anaconda/envs/manfing/lib/python3.9/site-packages/setuptools/_distutils/version.py:351: DeprecationWarning:\n",
      "\n",
      "distutils Version classes are deprecated. Use packaging.version instead.\n",
      "\n"
     ]
    }
   ],
   "source": [
    "jupyter_settings()"
   ]
  },
  {
   "cell_type": "markdown",
   "id": "4220f2e4",
   "metadata": {},
   "source": [
    "## 0.2 Load dataset"
   ]
  },
  {
   "cell_type": "code",
   "execution_count": 137,
   "id": "86d13263",
   "metadata": {
    "ExecuteTime": {
     "end_time": "2022-07-15T00:50:37.698925Z",
     "start_time": "2022-07-15T00:50:04.616720Z"
    }
   },
   "outputs": [],
   "source": [
    "df_raw = pd.read_excel( '../data/raw/DataSet_Test.xlsx', usecols=\"A:G\")"
   ]
  },
  {
   "cell_type": "markdown",
   "id": "0f956f15",
   "metadata": {},
   "source": [
    "# 1.0. Data Description"
   ]
  },
  {
   "cell_type": "code",
   "execution_count": 138,
   "id": "eb8f7621",
   "metadata": {
    "ExecuteTime": {
     "end_time": "2022-07-15T00:50:40.631374Z",
     "start_time": "2022-07-15T00:50:40.620530Z"
    }
   },
   "outputs": [],
   "source": [
    "df1 = df_raw.copy()"
   ]
  },
  {
   "cell_type": "code",
   "execution_count": 139,
   "id": "a22a8ceb",
   "metadata": {
    "ExecuteTime": {
     "end_time": "2022-07-15T00:50:41.004278Z",
     "start_time": "2022-07-15T00:50:40.996406Z"
    }
   },
   "outputs": [
    {
     "data": {
      "text/html": [
       "<div>\n",
       "<style scoped>\n",
       "    .dataframe tbody tr th:only-of-type {\n",
       "        vertical-align: middle;\n",
       "    }\n",
       "\n",
       "    .dataframe tbody tr th {\n",
       "        vertical-align: top;\n",
       "    }\n",
       "\n",
       "    .dataframe thead th {\n",
       "        text-align: right;\n",
       "    }\n",
       "</style>\n",
       "<table border=\"1\" class=\"dataframe\">\n",
       "  <thead>\n",
       "    <tr style=\"text-align: right;\">\n",
       "      <th></th>\n",
       "      <th>BillNo</th>\n",
       "      <th>Itemname</th>\n",
       "      <th>Quantity</th>\n",
       "      <th>Date</th>\n",
       "      <th>Price</th>\n",
       "      <th>CustomerID</th>\n",
       "      <th>Country</th>\n",
       "    </tr>\n",
       "  </thead>\n",
       "  <tbody>\n",
       "    <tr>\n",
       "      <th>0</th>\n",
       "      <td>536365</td>\n",
       "      <td>WHITE HANGING HEART T-LIGHT HOLDER</td>\n",
       "      <td>6</td>\n",
       "      <td>2010-12-01 08:26:00</td>\n",
       "      <td>2.55</td>\n",
       "      <td>17850.0</td>\n",
       "      <td>United Kingdom</td>\n",
       "    </tr>\n",
       "    <tr>\n",
       "      <th>1</th>\n",
       "      <td>536365</td>\n",
       "      <td>WHITE METAL LANTERN</td>\n",
       "      <td>6</td>\n",
       "      <td>2010-12-01 08:26:00</td>\n",
       "      <td>3.39</td>\n",
       "      <td>17850.0</td>\n",
       "      <td>United Kingdom</td>\n",
       "    </tr>\n",
       "    <tr>\n",
       "      <th>2</th>\n",
       "      <td>536365</td>\n",
       "      <td>CREAM CUPID HEARTS COAT HANGER</td>\n",
       "      <td>8</td>\n",
       "      <td>2010-12-01 08:26:00</td>\n",
       "      <td>2.75</td>\n",
       "      <td>17850.0</td>\n",
       "      <td>United Kingdom</td>\n",
       "    </tr>\n",
       "    <tr>\n",
       "      <th>3</th>\n",
       "      <td>536365</td>\n",
       "      <td>KNITTED UNION FLAG HOT WATER BOTTLE</td>\n",
       "      <td>6</td>\n",
       "      <td>2010-12-01 08:26:00</td>\n",
       "      <td>3.39</td>\n",
       "      <td>17850.0</td>\n",
       "      <td>United Kingdom</td>\n",
       "    </tr>\n",
       "    <tr>\n",
       "      <th>4</th>\n",
       "      <td>536365</td>\n",
       "      <td>RED WOOLLY HOTTIE WHITE HEART.</td>\n",
       "      <td>6</td>\n",
       "      <td>2010-12-01 08:26:00</td>\n",
       "      <td>3.39</td>\n",
       "      <td>17850.0</td>\n",
       "      <td>United Kingdom</td>\n",
       "    </tr>\n",
       "  </tbody>\n",
       "</table>\n",
       "</div>"
      ],
      "text/plain": [
       "   BillNo                             Itemname  Quantity                Date  Price  CustomerID         Country\n",
       "0  536365   WHITE HANGING HEART T-LIGHT HOLDER         6 2010-12-01 08:26:00   2.55     17850.0  United Kingdom\n",
       "1  536365                  WHITE METAL LANTERN         6 2010-12-01 08:26:00   3.39     17850.0  United Kingdom\n",
       "2  536365       CREAM CUPID HEARTS COAT HANGER         8 2010-12-01 08:26:00   2.75     17850.0  United Kingdom\n",
       "3  536365  KNITTED UNION FLAG HOT WATER BOTTLE         6 2010-12-01 08:26:00   3.39     17850.0  United Kingdom\n",
       "4  536365       RED WOOLLY HOTTIE WHITE HEART.         6 2010-12-01 08:26:00   3.39     17850.0  United Kingdom"
      ]
     },
     "execution_count": 139,
     "metadata": {},
     "output_type": "execute_result"
    }
   ],
   "source": [
    "df1.head()"
   ]
  },
  {
   "cell_type": "markdown",
   "id": "aa9ba15a",
   "metadata": {},
   "source": [
    "## 1.1. Rename Columns"
   ]
  },
  {
   "cell_type": "code",
   "execution_count": 140,
   "id": "8728fa0e",
   "metadata": {
    "ExecuteTime": {
     "end_time": "2022-07-15T00:50:43.591314Z",
     "start_time": "2022-07-15T00:50:43.584119Z"
    }
   },
   "outputs": [
    {
     "data": {
      "text/plain": [
       "Index(['bill_no', 'item_name', 'quantity', 'date', 'price', 'customer_id',\n",
       "       'country'],\n",
       "      dtype='object')"
      ]
     },
     "execution_count": 140,
     "metadata": {},
     "output_type": "execute_result"
    }
   ],
   "source": [
    "cols_old = ['BillNo', 'ItemName', 'Quantity', 'Date', 'Price', 'CustomerID', 'Country']\n",
    "\n",
    "# change columns names to snakecase format\n",
    "snakecase = lambda x: inflection.underscore( x )\n",
    "cols_news = list( map( snakecase, cols_old ) )\n",
    "\n",
    "# rename\n",
    "df1.columns = cols_news\n",
    "df1.columns"
   ]
  },
  {
   "cell_type": "markdown",
   "id": "ca2c2488",
   "metadata": {},
   "source": [
    "## 1.2. Data Dimensions"
   ]
  },
  {
   "cell_type": "code",
   "execution_count": 141,
   "id": "83243c39",
   "metadata": {
    "ExecuteTime": {
     "end_time": "2022-07-15T00:50:44.539886Z",
     "start_time": "2022-07-15T00:50:44.537014Z"
    }
   },
   "outputs": [
    {
     "name": "stdout",
     "output_type": "stream",
     "text": [
      "Number of Rows: 522064\n",
      "Number of Columns: 7\n"
     ]
    }
   ],
   "source": [
    "print( f'Number of Rows: {df1.shape[0]}' )\n",
    "print( f'Number of Columns: {df1.shape[1]}' )"
   ]
  },
  {
   "cell_type": "markdown",
   "id": "faae2cfc",
   "metadata": {},
   "source": [
    "## 1.3. Data Types"
   ]
  },
  {
   "cell_type": "code",
   "execution_count": 142,
   "id": "eff2930a",
   "metadata": {
    "ExecuteTime": {
     "end_time": "2022-07-15T00:50:45.517411Z",
     "start_time": "2022-07-15T00:50:45.513516Z"
    }
   },
   "outputs": [
    {
     "data": {
      "text/plain": [
       "bill_no                object\n",
       "item_name              object\n",
       "quantity                int64\n",
       "date           datetime64[ns]\n",
       "price                 float64\n",
       "customer_id           float64\n",
       "country                object\n",
       "dtype: object"
      ]
     },
     "execution_count": 142,
     "metadata": {},
     "output_type": "execute_result"
    }
   ],
   "source": [
    "df1.dtypes"
   ]
  },
  {
   "cell_type": "markdown",
   "id": "76d146bd",
   "metadata": {},
   "source": [
    "## 1.4. Check NA"
   ]
  },
  {
   "cell_type": "code",
   "execution_count": 143,
   "id": "19776dce",
   "metadata": {
    "ExecuteTime": {
     "end_time": "2022-07-15T00:50:46.465638Z",
     "start_time": "2022-07-15T00:50:46.316411Z"
    }
   },
   "outputs": [
    {
     "data": {
      "text/plain": [
       "bill_no             0\n",
       "item_name        1455\n",
       "quantity            0\n",
       "date                0\n",
       "price               0\n",
       "customer_id    134041\n",
       "country             0\n",
       "dtype: int64"
      ]
     },
     "execution_count": 143,
     "metadata": {},
     "output_type": "execute_result"
    }
   ],
   "source": [
    "df1.isna().sum()"
   ]
  },
  {
   "cell_type": "markdown",
   "id": "f4d02de7",
   "metadata": {
    "ExecuteTime": {
     "end_time": "2022-07-11T22:38:15.685444Z",
     "start_time": "2022-07-11T22:38:15.683187Z"
    }
   },
   "source": [
    "## 1.5. Replace NA"
   ]
  },
  {
   "cell_type": "code",
   "execution_count": 144,
   "id": "a22f290a",
   "metadata": {
    "ExecuteTime": {
     "end_time": "2022-07-15T00:50:47.472527Z",
     "start_time": "2022-07-15T00:50:47.401336Z"
    }
   },
   "outputs": [
    {
     "name": "stdout",
     "output_type": "stream",
     "text": [
      "Removed data : 0.26 %\n"
     ]
    }
   ],
   "source": [
    "df1 = df1.dropna(subset=['item_name','customer_id'])\n",
    "print( f'Removed data : { 1-( df1.shape[0] / df_raw.shape[0]):.2f} %')"
   ]
  },
  {
   "cell_type": "code",
   "execution_count": 145,
   "id": "0c47625d",
   "metadata": {
    "ExecuteTime": {
     "end_time": "2022-07-15T00:50:47.909096Z",
     "start_time": "2022-07-15T00:50:47.795963Z"
    }
   },
   "outputs": [
    {
     "data": {
      "text/plain": [
       "bill_no        0\n",
       "item_name      0\n",
       "quantity       0\n",
       "date           0\n",
       "price          0\n",
       "customer_id    0\n",
       "country        0\n",
       "dtype: int64"
      ]
     },
     "execution_count": 145,
     "metadata": {},
     "output_type": "execute_result"
    }
   ],
   "source": [
    "df1.isna().sum()"
   ]
  },
  {
   "cell_type": "markdown",
   "id": "bbce19aa",
   "metadata": {},
   "source": [
    "## 1.6. Change Types"
   ]
  },
  {
   "cell_type": "code",
   "execution_count": 146,
   "id": "97873246",
   "metadata": {
    "ExecuteTime": {
     "end_time": "2022-07-15T00:50:48.721489Z",
     "start_time": "2022-07-15T00:50:48.715178Z"
    }
   },
   "outputs": [
    {
     "data": {
      "text/plain": [
       "bill_no                object\n",
       "item_name              object\n",
       "quantity                int64\n",
       "date           datetime64[ns]\n",
       "price                 float64\n",
       "customer_id           float64\n",
       "country                object\n",
       "dtype: object"
      ]
     },
     "execution_count": 146,
     "metadata": {},
     "output_type": "execute_result"
    }
   ],
   "source": [
    "df1.dtypes"
   ]
  },
  {
   "cell_type": "code",
   "execution_count": 147,
   "id": "99bf6b91",
   "metadata": {
    "ExecuteTime": {
     "end_time": "2022-07-15T00:50:49.147255Z",
     "start_time": "2022-07-15T00:50:49.123116Z"
    }
   },
   "outputs": [],
   "source": [
    "# customer_id\n",
    "df1['customer_id'] = df1['customer_id'].astype(int)\n",
    "# bill_no\n",
    "df1['bill_no'] = df1['bill_no'].astype(int)"
   ]
  },
  {
   "cell_type": "code",
   "execution_count": 148,
   "id": "538bc483",
   "metadata": {
    "ExecuteTime": {
     "end_time": "2022-07-15T00:50:49.520616Z",
     "start_time": "2022-07-15T00:50:49.517272Z"
    },
    "scrolled": true
   },
   "outputs": [
    {
     "data": {
      "text/plain": [
       "bill_no                 int64\n",
       "item_name              object\n",
       "quantity                int64\n",
       "date           datetime64[ns]\n",
       "price                 float64\n",
       "customer_id             int64\n",
       "country                object\n",
       "dtype: object"
      ]
     },
     "execution_count": 148,
     "metadata": {},
     "output_type": "execute_result"
    }
   ],
   "source": [
    "df1.dtypes"
   ]
  },
  {
   "cell_type": "markdown",
   "id": "ac9b2af2",
   "metadata": {},
   "source": [
    "## 1.7.  Descriptive Statistic"
   ]
  },
  {
   "cell_type": "code",
   "execution_count": 149,
   "id": "2570dccf",
   "metadata": {
    "ExecuteTime": {
     "end_time": "2022-07-15T00:50:50.295241Z",
     "start_time": "2022-07-15T00:50:50.290986Z"
    }
   },
   "outputs": [],
   "source": [
    "# splitting numerical and categorical attributes\n",
    "num_attributes = df1.select_dtypes( include=['int64', 'float64'] )\n",
    "cat_attributes = df1.select_dtypes( exclude=['int64', 'float64', 'datetime64[ns]'] )"
   ]
  },
  {
   "cell_type": "markdown",
   "id": "42d07677",
   "metadata": {},
   "source": [
    "### 1.7.1 Numerical Attributes"
   ]
  },
  {
   "cell_type": "code",
   "execution_count": 150,
   "id": "8aa1ab65",
   "metadata": {
    "ExecuteTime": {
     "end_time": "2022-07-15T00:50:51.179958Z",
     "start_time": "2022-07-15T00:50:51.050014Z"
    }
   },
   "outputs": [
    {
     "data": {
      "text/html": [
       "<div>\n",
       "<style scoped>\n",
       "    .dataframe tbody tr th:only-of-type {\n",
       "        vertical-align: middle;\n",
       "    }\n",
       "\n",
       "    .dataframe tbody tr th {\n",
       "        vertical-align: top;\n",
       "    }\n",
       "\n",
       "    .dataframe thead th {\n",
       "        text-align: right;\n",
       "    }\n",
       "</style>\n",
       "<table border=\"1\" class=\"dataframe\">\n",
       "  <thead>\n",
       "    <tr style=\"text-align: right;\">\n",
       "      <th></th>\n",
       "      <th>attributes</th>\n",
       "      <th>min</th>\n",
       "      <th>max</th>\n",
       "      <th>range</th>\n",
       "      <th>mean</th>\n",
       "      <th>median</th>\n",
       "      <th>std</th>\n",
       "      <th>skew</th>\n",
       "      <th>kurtosis</th>\n",
       "    </tr>\n",
       "  </thead>\n",
       "  <tbody>\n",
       "    <tr>\n",
       "      <th>0</th>\n",
       "      <td>bill_no</td>\n",
       "      <td>536365.0</td>\n",
       "      <td>581587.00</td>\n",
       "      <td>45222.00</td>\n",
       "      <td>560610.618886</td>\n",
       "      <td>561888.00</td>\n",
       "      <td>13127.750045</td>\n",
       "      <td>-0.177985</td>\n",
       "      <td>-1.203868</td>\n",
       "    </tr>\n",
       "    <tr>\n",
       "      <th>1</th>\n",
       "      <td>quantity</td>\n",
       "      <td>1.0</td>\n",
       "      <td>80995.00</td>\n",
       "      <td>80994.00</td>\n",
       "      <td>12.892140</td>\n",
       "      <td>5.00</td>\n",
       "      <td>182.605082</td>\n",
       "      <td>398.939104</td>\n",
       "      <td>170018.533836</td>\n",
       "    </tr>\n",
       "    <tr>\n",
       "      <th>2</th>\n",
       "      <td>price</td>\n",
       "      <td>0.0</td>\n",
       "      <td>8142.75</td>\n",
       "      <td>8142.75</td>\n",
       "      <td>3.079258</td>\n",
       "      <td>1.95</td>\n",
       "      <td>21.984541</td>\n",
       "      <td>210.091777</td>\n",
       "      <td>60679.390432</td>\n",
       "    </tr>\n",
       "    <tr>\n",
       "      <th>3</th>\n",
       "      <td>customer_id</td>\n",
       "      <td>12346.0</td>\n",
       "      <td>18287.00</td>\n",
       "      <td>5941.00</td>\n",
       "      <td>15316.931710</td>\n",
       "      <td>15265.00</td>\n",
       "      <td>1721.844746</td>\n",
       "      <td>0.006838</td>\n",
       "      <td>-1.207273</td>\n",
       "    </tr>\n",
       "  </tbody>\n",
       "</table>\n",
       "</div>"
      ],
      "text/plain": [
       "    attributes       min        max     range           mean     median           std        skew       kurtosis\n",
       "0      bill_no  536365.0  581587.00  45222.00  560610.618886  561888.00  13127.750045   -0.177985      -1.203868\n",
       "1     quantity       1.0   80995.00  80994.00      12.892140       5.00    182.605082  398.939104  170018.533836\n",
       "2        price       0.0    8142.75   8142.75       3.079258       1.95     21.984541  210.091777   60679.390432\n",
       "3  customer_id   12346.0   18287.00   5941.00   15316.931710   15265.00   1721.844746    0.006838      -1.207273"
      ]
     },
     "execution_count": 150,
     "metadata": {},
     "output_type": "execute_result"
    }
   ],
   "source": [
    "# Central Tendency - mean, median\n",
    "ct1 = pd.DataFrame( num_attributes.apply( np.mean ) ).T\n",
    "ct2 = pd.DataFrame( num_attributes.apply( np.median ) ).T\n",
    "\n",
    "# Dispersion - std, min, max, range, skew, kurtosis\n",
    "d1 = pd.DataFrame( num_attributes.apply( np.std ) ).T\n",
    "d2 = pd.DataFrame( num_attributes.apply( np.min ) ).T\n",
    "d3 = pd.DataFrame( num_attributes.apply( np.max ) ).T\n",
    "d4 = pd.DataFrame( num_attributes.apply( lambda x: x.max() - x.min() ) ).T\n",
    "d5 = pd.DataFrame( num_attributes.apply( lambda x: x.skew() ) ).T\n",
    "d6 = pd.DataFrame( num_attributes.apply( lambda x: x.kurtosis() ) ).T\n",
    "\n",
    "# concatenate\n",
    "m = pd.concat( [d2, d3, d4, ct1, ct2, d1, d5, d6] ).T.reset_index()\n",
    "m.columns = ['attributes', 'min', 'max', 'range', 'mean', 'median', 'std', 'skew', 'kurtosis']\n",
    "m"
   ]
  },
  {
   "cell_type": "markdown",
   "id": "5a2a07ab",
   "metadata": {},
   "source": [
    "## 1.8. Categorical Attributes"
   ]
  },
  {
   "cell_type": "code",
   "execution_count": 151,
   "id": "668a57e7",
   "metadata": {
    "ExecuteTime": {
     "end_time": "2022-07-15T00:50:51.941374Z",
     "start_time": "2022-07-15T00:50:51.875900Z"
    }
   },
   "outputs": [
    {
     "data": {
      "text/plain": [
       "item_name    3846\n",
       "country        29\n",
       "dtype: int64"
      ]
     },
     "execution_count": 151,
     "metadata": {},
     "output_type": "execute_result"
    }
   ],
   "source": [
    "cat_attributes.apply( lambda x: x.unique().shape[0] )"
   ]
  },
  {
   "cell_type": "markdown",
   "id": "6ba631ff",
   "metadata": {},
   "source": [
    "### 1.8.1 Country"
   ]
  },
  {
   "cell_type": "code",
   "execution_count": 152,
   "id": "2f3d0295",
   "metadata": {
    "ExecuteTime": {
     "end_time": "2022-07-15T00:50:53.667824Z",
     "start_time": "2022-07-15T00:50:53.651224Z"
    }
   },
   "outputs": [
    {
     "data": {
      "text/plain": [
       "United Kingdom    0.913206\n",
       "Germany           0.023303\n",
       "France            0.021499\n",
       "Spain             0.006404\n",
       "Netherlands       0.006090\n",
       "Belgium           0.005234\n",
       "Switzerland       0.004747\n",
       "Portugal          0.003768\n",
       "Australia         0.003054\n",
       "Norway            0.002763\n",
       "Name: country, dtype: float64"
      ]
     },
     "execution_count": 152,
     "metadata": {},
     "output_type": "execute_result"
    }
   ],
   "source": [
    "df1['country'].value_counts( normalize=True ).head(10)"
   ]
  },
  {
   "cell_type": "code",
   "execution_count": 153,
   "id": "f2110a34",
   "metadata": {
    "ExecuteTime": {
     "end_time": "2022-07-15T00:50:54.381810Z",
     "start_time": "2022-07-15T00:50:54.324629Z"
    }
   },
   "outputs": [
    {
     "data": {
      "text/html": [
       "<div>\n",
       "<style scoped>\n",
       "    .dataframe tbody tr th:only-of-type {\n",
       "        vertical-align: middle;\n",
       "    }\n",
       "\n",
       "    .dataframe tbody tr th {\n",
       "        vertical-align: top;\n",
       "    }\n",
       "\n",
       "    .dataframe thead th {\n",
       "        text-align: right;\n",
       "    }\n",
       "</style>\n",
       "<table border=\"1\" class=\"dataframe\">\n",
       "  <thead>\n",
       "    <tr style=\"text-align: right;\">\n",
       "      <th></th>\n",
       "      <th>country</th>\n",
       "      <th>customer_id</th>\n",
       "    </tr>\n",
       "  </thead>\n",
       "  <tbody>\n",
       "    <tr>\n",
       "      <th>27</th>\n",
       "      <td>United Kingdom</td>\n",
       "      <td>3921</td>\n",
       "    </tr>\n",
       "    <tr>\n",
       "      <th>6</th>\n",
       "      <td>Germany</td>\n",
       "      <td>94</td>\n",
       "    </tr>\n",
       "    <tr>\n",
       "      <th>5</th>\n",
       "      <td>France</td>\n",
       "      <td>87</td>\n",
       "    </tr>\n",
       "    <tr>\n",
       "      <th>22</th>\n",
       "      <td>Spain</td>\n",
       "      <td>30</td>\n",
       "    </tr>\n",
       "    <tr>\n",
       "      <th>3</th>\n",
       "      <td>Belgium</td>\n",
       "      <td>25</td>\n",
       "    </tr>\n",
       "  </tbody>\n",
       "</table>\n",
       "</div>"
      ],
      "text/plain": [
       "           country  customer_id\n",
       "27  United Kingdom         3921\n",
       "6          Germany           94\n",
       "5           France           87\n",
       "22           Spain           30\n",
       "3          Belgium           25"
      ]
     },
     "execution_count": 153,
     "metadata": {},
     "output_type": "execute_result"
    }
   ],
   "source": [
    "df1[['customer_id', 'country']].drop_duplicates().groupby( 'country').count().reset_index().sort_values( 'customer_id', ascending=False).head()"
   ]
  },
  {
   "cell_type": "markdown",
   "id": "fd74b861",
   "metadata": {},
   "source": [
    "## Notes"
   ]
  },
  {
   "cell_type": "markdown",
   "id": "c3c6ea46",
   "metadata": {},
   "source": [
    "- Preço unitário igual a zero"
   ]
  },
  {
   "cell_type": "markdown",
   "id": "85f8ca36",
   "metadata": {},
   "source": [
    "# 2.0. Filtragem de Variáveis "
   ]
  },
  {
   "cell_type": "code",
   "execution_count": 215,
   "id": "1b21293b",
   "metadata": {
    "ExecuteTime": {
     "end_time": "2022-07-15T01:58:37.647530Z",
     "start_time": "2022-07-15T01:58:37.630685Z"
    }
   },
   "outputs": [
    {
     "data": {
      "text/html": [
       "<div>\n",
       "<style scoped>\n",
       "    .dataframe tbody tr th:only-of-type {\n",
       "        vertical-align: middle;\n",
       "    }\n",
       "\n",
       "    .dataframe tbody tr th {\n",
       "        vertical-align: top;\n",
       "    }\n",
       "\n",
       "    .dataframe thead th {\n",
       "        text-align: right;\n",
       "    }\n",
       "</style>\n",
       "<table border=\"1\" class=\"dataframe\">\n",
       "  <thead>\n",
       "    <tr style=\"text-align: right;\">\n",
       "      <th></th>\n",
       "      <th>bill_no</th>\n",
       "      <th>item_name</th>\n",
       "      <th>quantity</th>\n",
       "      <th>date</th>\n",
       "      <th>price</th>\n",
       "      <th>customer_id</th>\n",
       "      <th>country</th>\n",
       "    </tr>\n",
       "  </thead>\n",
       "  <tbody>\n",
       "    <tr>\n",
       "      <th>0</th>\n",
       "      <td>536365</td>\n",
       "      <td>WHITE HANGING HEART T-LIGHT HOLDER</td>\n",
       "      <td>6</td>\n",
       "      <td>2010-12-01 08:26:00</td>\n",
       "      <td>2.55</td>\n",
       "      <td>17850</td>\n",
       "      <td>United Kingdom</td>\n",
       "    </tr>\n",
       "    <tr>\n",
       "      <th>1</th>\n",
       "      <td>536365</td>\n",
       "      <td>WHITE METAL LANTERN</td>\n",
       "      <td>6</td>\n",
       "      <td>2010-12-01 08:26:00</td>\n",
       "      <td>3.39</td>\n",
       "      <td>17850</td>\n",
       "      <td>United Kingdom</td>\n",
       "    </tr>\n",
       "    <tr>\n",
       "      <th>2</th>\n",
       "      <td>536365</td>\n",
       "      <td>CREAM CUPID HEARTS COAT HANGER</td>\n",
       "      <td>8</td>\n",
       "      <td>2010-12-01 08:26:00</td>\n",
       "      <td>2.75</td>\n",
       "      <td>17850</td>\n",
       "      <td>United Kingdom</td>\n",
       "    </tr>\n",
       "    <tr>\n",
       "      <th>3</th>\n",
       "      <td>536365</td>\n",
       "      <td>KNITTED UNION FLAG HOT WATER BOTTLE</td>\n",
       "      <td>6</td>\n",
       "      <td>2010-12-01 08:26:00</td>\n",
       "      <td>3.39</td>\n",
       "      <td>17850</td>\n",
       "      <td>United Kingdom</td>\n",
       "    </tr>\n",
       "    <tr>\n",
       "      <th>4</th>\n",
       "      <td>536365</td>\n",
       "      <td>RED WOOLLY HOTTIE WHITE HEART.</td>\n",
       "      <td>6</td>\n",
       "      <td>2010-12-01 08:26:00</td>\n",
       "      <td>3.39</td>\n",
       "      <td>17850</td>\n",
       "      <td>United Kingdom</td>\n",
       "    </tr>\n",
       "  </tbody>\n",
       "</table>\n",
       "</div>"
      ],
      "text/plain": [
       "   bill_no                            item_name  quantity                date  price  customer_id         country\n",
       "0   536365   WHITE HANGING HEART T-LIGHT HOLDER         6 2010-12-01 08:26:00   2.55        17850  United Kingdom\n",
       "1   536365                  WHITE METAL LANTERN         6 2010-12-01 08:26:00   3.39        17850  United Kingdom\n",
       "2   536365       CREAM CUPID HEARTS COAT HANGER         8 2010-12-01 08:26:00   2.75        17850  United Kingdom\n",
       "3   536365  KNITTED UNION FLAG HOT WATER BOTTLE         6 2010-12-01 08:26:00   3.39        17850  United Kingdom\n",
       "4   536365       RED WOOLLY HOTTIE WHITE HEART.         6 2010-12-01 08:26:00   3.39        17850  United Kingdom"
      ]
     },
     "execution_count": 215,
     "metadata": {},
     "output_type": "execute_result"
    }
   ],
   "source": [
    "df2 = df1.copy()\n",
    "df2.head()"
   ]
  },
  {
   "cell_type": "code",
   "execution_count": 216,
   "id": "42f0dfb7",
   "metadata": {
    "ExecuteTime": {
     "end_time": "2022-07-15T01:58:38.233684Z",
     "start_time": "2022-07-15T01:58:38.055343Z"
    }
   },
   "outputs": [],
   "source": [
    "## == Numerical attributtes\n",
    "df2 = df2.loc[df2['price'] >= 0.04,:]\n",
    "\n",
    "df2 = df2[~df2[\"item_name\"].str.contains(\"POST\", na=False)]\n",
    "\n",
    "# country\n",
    "#df2 = df2[df2.country == \"United Kingdom\"]\n",
    "df2 = df2[~df2['country'].isin( [\"Unspecified\"] )]\n",
    "\n",
    "# bad users\n",
    "#df2 = df2[~df2['customer_id'].isin( [16446] )]\n",
    "\n",
    "# description\n",
    "#df2 = df2.drop(columns='item_name', axis=1)"
   ]
  },
  {
   "cell_type": "markdown",
   "id": "cde5cef3",
   "metadata": {},
   "source": [
    "## Notes"
   ]
  },
  {
   "cell_type": "markdown",
   "id": "eb897f87",
   "metadata": {},
   "source": [
    "- Foi removido valores zero\n",
    "\n",
    "- Foi removido item_name = POSTAGE\n",
    "\n",
    "- Foi removido country = Unspecified\n",
    "\n",
    "- customer_id = 16446 -> Possivel Otlier"
   ]
  },
  {
   "cell_type": "markdown",
   "id": "408287ac",
   "metadata": {},
   "source": [
    "# 3.0. Feature Engineering"
   ]
  },
  {
   "cell_type": "code",
   "execution_count": 236,
   "id": "df404fad",
   "metadata": {
    "ExecuteTime": {
     "end_time": "2022-07-15T02:00:03.243126Z",
     "start_time": "2022-07-15T02:00:03.234399Z"
    }
   },
   "outputs": [],
   "source": [
    "df3 = df2.copy()"
   ]
  },
  {
   "cell_type": "markdown",
   "id": "99ca29d1",
   "metadata": {},
   "source": [
    "## 3.1. Feature Creation"
   ]
  },
  {
   "cell_type": "code",
   "execution_count": 237,
   "id": "d95cbf12",
   "metadata": {
    "ExecuteTime": {
     "end_time": "2022-07-15T02:00:04.686417Z",
     "start_time": "2022-07-15T02:00:04.007394Z"
    }
   },
   "outputs": [],
   "source": [
    "# removendo hora\n",
    "df3['date'] = df3['date'].apply( get_month )\n",
    "# month\n",
    "df3['month'] = df3['date'].dt.month"
   ]
  },
  {
   "cell_type": "code",
   "execution_count": 238,
   "id": "188a304d",
   "metadata": {
    "ExecuteTime": {
     "end_time": "2022-07-15T02:00:04.886877Z",
     "start_time": "2022-07-15T02:00:04.687653Z"
    }
   },
   "outputs": [
    {
     "data": {
      "text/plain": [
       "bill_no        0\n",
       "item_name      0\n",
       "quantity       0\n",
       "date           0\n",
       "price          0\n",
       "customer_id    0\n",
       "country        0\n",
       "month          0\n",
       "produto_id     0\n",
       "dtype: int64"
      ]
     },
     "execution_count": 238,
     "metadata": {},
     "output_type": "execute_result"
    }
   ],
   "source": [
    "# data product_id -> criando codigo unico para os produtos.\n",
    "df_product_id = df3.drop( ['bill_no', 'quantity', 'date', 'price','customer_id', 'country', 'month'], axis=1 ).drop_duplicates( ignore_index=True)\n",
    "df_product_id = pd.DataFrame( df_product_id ) \n",
    "df_product_id['produto_id'] = pd.factorize( df_product_id['item_name'])[0]\n",
    "\n",
    "# merge produto_id com df3\n",
    "df3 = pd.merge( df3, df_product_id, on='item_name', how='left' )\n",
    "df3.isna().sum()"
   ]
  },
  {
   "cell_type": "code",
   "execution_count": 239,
   "id": "df6b4c36",
   "metadata": {
    "ExecuteTime": {
     "end_time": "2022-07-15T02:00:04.896527Z",
     "start_time": "2022-07-15T02:00:04.888052Z"
    }
   },
   "outputs": [
    {
     "data": {
      "text/html": [
       "<div>\n",
       "<style scoped>\n",
       "    .dataframe tbody tr th:only-of-type {\n",
       "        vertical-align: middle;\n",
       "    }\n",
       "\n",
       "    .dataframe tbody tr th {\n",
       "        vertical-align: top;\n",
       "    }\n",
       "\n",
       "    .dataframe thead th {\n",
       "        text-align: right;\n",
       "    }\n",
       "</style>\n",
       "<table border=\"1\" class=\"dataframe\">\n",
       "  <thead>\n",
       "    <tr style=\"text-align: right;\">\n",
       "      <th></th>\n",
       "      <th>bill_no</th>\n",
       "      <th>item_name</th>\n",
       "      <th>quantity</th>\n",
       "      <th>date</th>\n",
       "      <th>price</th>\n",
       "      <th>customer_id</th>\n",
       "      <th>country</th>\n",
       "      <th>month</th>\n",
       "      <th>produto_id</th>\n",
       "    </tr>\n",
       "  </thead>\n",
       "  <tbody>\n",
       "    <tr>\n",
       "      <th>0</th>\n",
       "      <td>536365</td>\n",
       "      <td>WHITE HANGING HEART T-LIGHT HOLDER</td>\n",
       "      <td>6</td>\n",
       "      <td>2010-12-01</td>\n",
       "      <td>2.55</td>\n",
       "      <td>17850</td>\n",
       "      <td>United Kingdom</td>\n",
       "      <td>12</td>\n",
       "      <td>0</td>\n",
       "    </tr>\n",
       "    <tr>\n",
       "      <th>1</th>\n",
       "      <td>536365</td>\n",
       "      <td>WHITE METAL LANTERN</td>\n",
       "      <td>6</td>\n",
       "      <td>2010-12-01</td>\n",
       "      <td>3.39</td>\n",
       "      <td>17850</td>\n",
       "      <td>United Kingdom</td>\n",
       "      <td>12</td>\n",
       "      <td>1</td>\n",
       "    </tr>\n",
       "    <tr>\n",
       "      <th>2</th>\n",
       "      <td>536365</td>\n",
       "      <td>CREAM CUPID HEARTS COAT HANGER</td>\n",
       "      <td>8</td>\n",
       "      <td>2010-12-01</td>\n",
       "      <td>2.75</td>\n",
       "      <td>17850</td>\n",
       "      <td>United Kingdom</td>\n",
       "      <td>12</td>\n",
       "      <td>2</td>\n",
       "    </tr>\n",
       "    <tr>\n",
       "      <th>3</th>\n",
       "      <td>536365</td>\n",
       "      <td>KNITTED UNION FLAG HOT WATER BOTTLE</td>\n",
       "      <td>6</td>\n",
       "      <td>2010-12-01</td>\n",
       "      <td>3.39</td>\n",
       "      <td>17850</td>\n",
       "      <td>United Kingdom</td>\n",
       "      <td>12</td>\n",
       "      <td>3</td>\n",
       "    </tr>\n",
       "    <tr>\n",
       "      <th>4</th>\n",
       "      <td>536365</td>\n",
       "      <td>RED WOOLLY HOTTIE WHITE HEART.</td>\n",
       "      <td>6</td>\n",
       "      <td>2010-12-01</td>\n",
       "      <td>3.39</td>\n",
       "      <td>17850</td>\n",
       "      <td>United Kingdom</td>\n",
       "      <td>12</td>\n",
       "      <td>4</td>\n",
       "    </tr>\n",
       "  </tbody>\n",
       "</table>\n",
       "</div>"
      ],
      "text/plain": [
       "   bill_no                            item_name  quantity       date  price  customer_id         country  month  produto_id\n",
       "0   536365   WHITE HANGING HEART T-LIGHT HOLDER         6 2010-12-01   2.55        17850  United Kingdom     12           0\n",
       "1   536365                  WHITE METAL LANTERN         6 2010-12-01   3.39        17850  United Kingdom     12           1\n",
       "2   536365       CREAM CUPID HEARTS COAT HANGER         8 2010-12-01   2.75        17850  United Kingdom     12           2\n",
       "3   536365  KNITTED UNION FLAG HOT WATER BOTTLE         6 2010-12-01   3.39        17850  United Kingdom     12           3\n",
       "4   536365       RED WOOLLY HOTTIE WHITE HEART.         6 2010-12-01   3.39        17850  United Kingdom     12           4"
      ]
     },
     "execution_count": 239,
     "metadata": {},
     "output_type": "execute_result"
    }
   ],
   "source": [
    "df3.head()"
   ]
  },
  {
   "cell_type": "markdown",
   "id": "c88bb60c",
   "metadata": {},
   "source": [
    " - **PRODUTO_ID:** Feature criada para auxiliar na criação de novas colunas Ex: Quantidade de produto po customer. \n",
    " - produto_id vai ser Utilizada no sistema de recomendação."
   ]
  },
  {
   "cell_type": "markdown",
   "id": "f3e0c8c5",
   "metadata": {},
   "source": [
    "### 3.1.1 Creation data REF"
   ]
  },
  {
   "cell_type": "code",
   "execution_count": 240,
   "id": "8abd9a86",
   "metadata": {
    "ExecuteTime": {
     "end_time": "2022-07-15T02:00:05.400858Z",
     "start_time": "2022-07-15T02:00:05.370515Z"
    }
   },
   "outputs": [],
   "source": [
    "# data refence\n",
    "df_ref = df3.drop( ['bill_no','item_name', 'quantity','date', 'price', 'country', 'produto_id', 'month'], axis=1 ).drop_duplicates( ignore_index=True)"
   ]
  },
  {
   "cell_type": "markdown",
   "id": "ac0e6938",
   "metadata": {},
   "source": [
    "### 3.1.2 Monetary / Recency /Frequency"
   ]
  },
  {
   "cell_type": "code",
   "execution_count": 241,
   "id": "b82719a4",
   "metadata": {
    "ExecuteTime": {
     "end_time": "2022-07-15T02:00:05.903037Z",
     "start_time": "2022-07-15T02:00:05.846047Z"
    }
   },
   "outputs": [],
   "source": [
    "# Gross Revenue ( Faturamento ) quantity * price\n",
    "df3.loc[:, 'monetary'] = df3.loc[:, 'quantity'] * df3.loc[:, 'price']\n",
    "\n",
    "# Monetary\n",
    "df_monetary = df3.loc[:,[ 'customer_id', 'monetary']].groupby( 'customer_id' ).sum().reset_index()\n",
    "df_ref = pd.merge( df_ref, df_monetary, on='customer_id', how='left')\n",
    "\n",
    "## Recency - Last day purchase\n",
    "df_recency = df3.loc[:, ['customer_id', 'date']].groupby( 'customer_id' ).max().reset_index()\n",
    "\n",
    "df_recency['recency'] = ( df3['date'].max() - df_recency['date'] ).dt.days\n",
    "df_recency = df_recency[['customer_id', 'recency']].copy()\n",
    "df_ref = pd.merge( df_ref, df_recency, on='customer_id', how='left')\n",
    "\n",
    "# Frequency\n",
    "df_freq = (df3.loc[:, ['customer_id', 'bill_no']].drop_duplicates()\n",
    "                                                             .groupby( 'customer_id' )\n",
    "                                                             .count()\n",
    "                                                             .reset_index()\n",
    "                                                             .rename( columns={'bill_no': 'frequency'}) )\n",
    "# Merge\n",
    "df_ref = pd.merge( df_ref, df_freq, on='customer_id', how='left' )"
   ]
  },
  {
   "cell_type": "markdown",
   "id": "46f1bae8",
   "metadata": {},
   "source": [
    "### 3.1.2 Quantidade de Items"
   ]
  },
  {
   "cell_type": "code",
   "execution_count": 242,
   "id": "578327bf",
   "metadata": {
    "ExecuteTime": {
     "end_time": "2022-07-15T02:00:06.348607Z",
     "start_time": "2022-07-15T02:00:06.330957Z"
    }
   },
   "outputs": [],
   "source": [
    "df_freq = (df3.loc[:, ['customer_id', 'quantity']].groupby( 'customer_id' ).sum()\n",
    "                                                           .reset_index()\n",
    "                                                           .rename( columns={'quantity': 'qtde_items'} ) )\n",
    "# Merge           \n",
    "df_ref = pd.merge( df_ref, df_freq, on='customer_id', how='left' )"
   ]
  },
  {
   "cell_type": "markdown",
   "id": "f4690001",
   "metadata": {},
   "source": [
    "### 3.1.3 Quantidade de Produtos"
   ]
  },
  {
   "cell_type": "code",
   "execution_count": 243,
   "id": "8dd78c43",
   "metadata": {
    "ExecuteTime": {
     "end_time": "2022-07-15T02:00:06.838949Z",
     "start_time": "2022-07-15T02:00:06.816345Z"
    }
   },
   "outputs": [],
   "source": [
    "df_freq = (df3.loc[:, ['customer_id', 'produto_id']].groupby( 'customer_id' ).count()\n",
    "                                                           .reset_index()\n",
    "                                                           .rename( columns={'produto_id': 'qtde_products'} ) )\n",
    "# Merge \n",
    "df_ref = pd.merge( df_ref, df_freq, on='customer_id', how='left' )"
   ]
  },
  {
   "cell_type": "markdown",
   "id": "ab8e2c60",
   "metadata": {},
   "source": [
    "### 3.1.4 Average Ticket Value"
   ]
  },
  {
   "cell_type": "code",
   "execution_count": 244,
   "id": "55e05bd9",
   "metadata": {
    "ExecuteTime": {
     "end_time": "2022-07-15T02:00:07.318830Z",
     "start_time": "2022-07-15T02:00:07.296622Z"
    }
   },
   "outputs": [],
   "source": [
    "df_avg_ticket = df3.loc[:,['customer_id', 'monetary']].groupby( 'customer_id' ).mean().reset_index().rename( columns={'monetary':'avg_ticket'} )\n",
    "\n",
    "# Merge    \n",
    "df_ref = pd.merge( df_ref, df_avg_ticket, on='customer_id', how='left')"
   ]
  },
  {
   "cell_type": "markdown",
   "id": "93e10220",
   "metadata": {},
   "source": [
    "### 3.1.5 Basket Size - Quantidade de item por Cesta"
   ]
  },
  {
   "cell_type": "code",
   "execution_count": 245,
   "id": "01d9b9f4",
   "metadata": {
    "ExecuteTime": {
     "end_time": "2022-07-15T02:00:07.790108Z",
     "start_time": "2022-07-15T02:00:07.746003Z"
    }
   },
   "outputs": [
    {
     "data": {
      "text/plain": [
       "customer_id        0\n",
       "monetary           0\n",
       "recency            0\n",
       "frequency          0\n",
       "qtde_items         0\n",
       "qtde_products      0\n",
       "avg_ticket         0\n",
       "avg_basket_size    0\n",
       "dtype: int64"
      ]
     },
     "execution_count": 245,
     "metadata": {},
     "output_type": "execute_result"
    }
   ],
   "source": [
    " df_aux = ( df3.loc[:, ['customer_id', 'bill_no', 'quantity']].groupby( 'customer_id' )\n",
    "                                                                            .agg( n_purchase=( 'bill_no', 'nunique'),\n",
    "                                                                                  n_products=( 'quantity', 'sum' ) )\n",
    "                                                                            .reset_index() )\n",
    "\n",
    "# calculation\n",
    "df_aux['avg_basket_size'] = df_aux['n_products'] / df_aux['n_purchase']\n",
    "\n",
    "# Merge\n",
    "df_ref = pd.merge( df_ref, df_aux[['customer_id', 'avg_basket_size']], how='left', on='customer_id' )\n",
    "df_ref.isna().sum()"
   ]
  },
  {
   "cell_type": "code",
   "execution_count": 246,
   "id": "0b1d68ab",
   "metadata": {
    "ExecuteTime": {
     "end_time": "2022-07-15T02:00:08.008097Z",
     "start_time": "2022-07-15T02:00:07.998912Z"
    }
   },
   "outputs": [
    {
     "data": {
      "text/html": [
       "<div>\n",
       "<style scoped>\n",
       "    .dataframe tbody tr th:only-of-type {\n",
       "        vertical-align: middle;\n",
       "    }\n",
       "\n",
       "    .dataframe tbody tr th {\n",
       "        vertical-align: top;\n",
       "    }\n",
       "\n",
       "    .dataframe thead th {\n",
       "        text-align: right;\n",
       "    }\n",
       "</style>\n",
       "<table border=\"1\" class=\"dataframe\">\n",
       "  <thead>\n",
       "    <tr style=\"text-align: right;\">\n",
       "      <th></th>\n",
       "      <th>customer_id</th>\n",
       "      <th>monetary</th>\n",
       "      <th>recency</th>\n",
       "      <th>frequency</th>\n",
       "      <th>qtde_items</th>\n",
       "      <th>qtde_products</th>\n",
       "      <th>avg_ticket</th>\n",
       "      <th>avg_basket_size</th>\n",
       "    </tr>\n",
       "  </thead>\n",
       "  <tbody>\n",
       "    <tr>\n",
       "      <th>0</th>\n",
       "      <td>17850</td>\n",
       "      <td>5391.21</td>\n",
       "      <td>365</td>\n",
       "      <td>34</td>\n",
       "      <td>1733</td>\n",
       "      <td>297</td>\n",
       "      <td>18.152222</td>\n",
       "      <td>50.970588</td>\n",
       "    </tr>\n",
       "    <tr>\n",
       "      <th>1</th>\n",
       "      <td>13047</td>\n",
       "      <td>3222.24</td>\n",
       "      <td>30</td>\n",
       "      <td>10</td>\n",
       "      <td>1385</td>\n",
       "      <td>171</td>\n",
       "      <td>18.843509</td>\n",
       "      <td>138.500000</td>\n",
       "    </tr>\n",
       "    <tr>\n",
       "      <th>2</th>\n",
       "      <td>12583</td>\n",
       "      <td>6705.38</td>\n",
       "      <td>0</td>\n",
       "      <td>15</td>\n",
       "      <td>5028</td>\n",
       "      <td>232</td>\n",
       "      <td>28.902500</td>\n",
       "      <td>335.200000</td>\n",
       "    </tr>\n",
       "    <tr>\n",
       "      <th>3</th>\n",
       "      <td>13748</td>\n",
       "      <td>948.25</td>\n",
       "      <td>91</td>\n",
       "      <td>5</td>\n",
       "      <td>439</td>\n",
       "      <td>28</td>\n",
       "      <td>33.866071</td>\n",
       "      <td>87.800000</td>\n",
       "    </tr>\n",
       "    <tr>\n",
       "      <th>4</th>\n",
       "      <td>15100</td>\n",
       "      <td>876.00</td>\n",
       "      <td>334</td>\n",
       "      <td>3</td>\n",
       "      <td>80</td>\n",
       "      <td>3</td>\n",
       "      <td>292.000000</td>\n",
       "      <td>26.666667</td>\n",
       "    </tr>\n",
       "  </tbody>\n",
       "</table>\n",
       "</div>"
      ],
      "text/plain": [
       "   customer_id  monetary  recency  frequency  qtde_items  qtde_products  avg_ticket  avg_basket_size\n",
       "0        17850   5391.21      365         34        1733            297   18.152222        50.970588\n",
       "1        13047   3222.24       30         10        1385            171   18.843509       138.500000\n",
       "2        12583   6705.38        0         15        5028            232   28.902500       335.200000\n",
       "3        13748    948.25       91          5         439             28   33.866071        87.800000\n",
       "4        15100    876.00      334          3          80              3  292.000000        26.666667"
      ]
     },
     "execution_count": 246,
     "metadata": {},
     "output_type": "execute_result"
    }
   ],
   "source": [
    "df_ref.head()"
   ]
  },
  {
   "cell_type": "code",
   "execution_count": 247,
   "id": "ba6d0462",
   "metadata": {
    "ExecuteTime": {
     "end_time": "2022-07-15T02:00:08.239489Z",
     "start_time": "2022-07-15T02:00:08.225031Z"
    }
   },
   "outputs": [
    {
     "data": {
      "text/html": [
       "<div>\n",
       "<style scoped>\n",
       "    .dataframe tbody tr th:only-of-type {\n",
       "        vertical-align: middle;\n",
       "    }\n",
       "\n",
       "    .dataframe tbody tr th {\n",
       "        vertical-align: top;\n",
       "    }\n",
       "\n",
       "    .dataframe thead th {\n",
       "        text-align: right;\n",
       "    }\n",
       "</style>\n",
       "<table border=\"1\" class=\"dataframe\">\n",
       "  <thead>\n",
       "    <tr style=\"text-align: right;\">\n",
       "      <th></th>\n",
       "      <th>bill_no</th>\n",
       "      <th>item_name</th>\n",
       "      <th>quantity</th>\n",
       "      <th>date</th>\n",
       "      <th>price</th>\n",
       "      <th>customer_id</th>\n",
       "      <th>country</th>\n",
       "      <th>month</th>\n",
       "      <th>produto_id</th>\n",
       "      <th>monetary</th>\n",
       "    </tr>\n",
       "  </thead>\n",
       "  <tbody>\n",
       "    <tr>\n",
       "      <th>0</th>\n",
       "      <td>536365</td>\n",
       "      <td>WHITE HANGING HEART T-LIGHT HOLDER</td>\n",
       "      <td>6</td>\n",
       "      <td>2010-12-01</td>\n",
       "      <td>2.55</td>\n",
       "      <td>17850</td>\n",
       "      <td>United Kingdom</td>\n",
       "      <td>12</td>\n",
       "      <td>0</td>\n",
       "      <td>15.30</td>\n",
       "    </tr>\n",
       "    <tr>\n",
       "      <th>1</th>\n",
       "      <td>536365</td>\n",
       "      <td>WHITE METAL LANTERN</td>\n",
       "      <td>6</td>\n",
       "      <td>2010-12-01</td>\n",
       "      <td>3.39</td>\n",
       "      <td>17850</td>\n",
       "      <td>United Kingdom</td>\n",
       "      <td>12</td>\n",
       "      <td>1</td>\n",
       "      <td>20.34</td>\n",
       "    </tr>\n",
       "    <tr>\n",
       "      <th>2</th>\n",
       "      <td>536365</td>\n",
       "      <td>CREAM CUPID HEARTS COAT HANGER</td>\n",
       "      <td>8</td>\n",
       "      <td>2010-12-01</td>\n",
       "      <td>2.75</td>\n",
       "      <td>17850</td>\n",
       "      <td>United Kingdom</td>\n",
       "      <td>12</td>\n",
       "      <td>2</td>\n",
       "      <td>22.00</td>\n",
       "    </tr>\n",
       "    <tr>\n",
       "      <th>3</th>\n",
       "      <td>536365</td>\n",
       "      <td>KNITTED UNION FLAG HOT WATER BOTTLE</td>\n",
       "      <td>6</td>\n",
       "      <td>2010-12-01</td>\n",
       "      <td>3.39</td>\n",
       "      <td>17850</td>\n",
       "      <td>United Kingdom</td>\n",
       "      <td>12</td>\n",
       "      <td>3</td>\n",
       "      <td>20.34</td>\n",
       "    </tr>\n",
       "    <tr>\n",
       "      <th>4</th>\n",
       "      <td>536365</td>\n",
       "      <td>RED WOOLLY HOTTIE WHITE HEART.</td>\n",
       "      <td>6</td>\n",
       "      <td>2010-12-01</td>\n",
       "      <td>3.39</td>\n",
       "      <td>17850</td>\n",
       "      <td>United Kingdom</td>\n",
       "      <td>12</td>\n",
       "      <td>4</td>\n",
       "      <td>20.34</td>\n",
       "    </tr>\n",
       "  </tbody>\n",
       "</table>\n",
       "</div>"
      ],
      "text/plain": [
       "   bill_no                            item_name  quantity       date  price  customer_id         country  month  produto_id  monetary\n",
       "0   536365   WHITE HANGING HEART T-LIGHT HOLDER         6 2010-12-01   2.55        17850  United Kingdom     12           0     15.30\n",
       "1   536365                  WHITE METAL LANTERN         6 2010-12-01   3.39        17850  United Kingdom     12           1     20.34\n",
       "2   536365       CREAM CUPID HEARTS COAT HANGER         8 2010-12-01   2.75        17850  United Kingdom     12           2     22.00\n",
       "3   536365  KNITTED UNION FLAG HOT WATER BOTTLE         6 2010-12-01   3.39        17850  United Kingdom     12           3     20.34\n",
       "4   536365       RED WOOLLY HOTTIE WHITE HEART.         6 2010-12-01   3.39        17850  United Kingdom     12           4     20.34"
      ]
     },
     "execution_count": 247,
     "metadata": {},
     "output_type": "execute_result"
    }
   ],
   "source": [
    "df3.head()"
   ]
  },
  {
   "cell_type": "markdown",
   "id": "d802b892",
   "metadata": {},
   "source": [
    "## Notes"
   ]
  },
  {
   "cell_type": "markdown",
   "id": "2fd4ab02",
   "metadata": {},
   "source": [
    "- Nesta seção foi criado feature **produto_id** no df3 sera realizado sistema de recomendação com esse dataframe\n",
    "\n",
    "- Foi criado **df_ref** para análise de comportamento dos customer -> sera realizado clustering"
   ]
  },
  {
   "cell_type": "markdown",
   "id": "4e261cdd",
   "metadata": {},
   "source": [
    "# 4.0. Análise Exploratória dos Dados"
   ]
  },
  {
   "cell_type": "code",
   "execution_count": 248,
   "id": "feeb94d6",
   "metadata": {
    "ExecuteTime": {
     "end_time": "2022-07-15T02:00:09.045760Z",
     "start_time": "2022-07-15T02:00:09.042548Z"
    }
   },
   "outputs": [],
   "source": [
    "df4 = df_ref.copy()"
   ]
  },
  {
   "cell_type": "markdown",
   "id": "4c5c4118",
   "metadata": {},
   "source": [
    "## 4.1. Univariate Analysis"
   ]
  },
  {
   "cell_type": "markdown",
   "id": "27ffa0bc",
   "metadata": {},
   "source": [
    "### 4.1.1 Gross Revenue"
   ]
  },
  {
   "cell_type": "code",
   "execution_count": 249,
   "id": "3e71813a",
   "metadata": {
    "ExecuteTime": {
     "end_time": "2022-07-15T02:00:09.610059Z",
     "start_time": "2022-07-15T02:00:09.587915Z"
    }
   },
   "outputs": [
    {
     "data": {
      "text/html": [
       "<div>\n",
       "<style scoped>\n",
       "    .dataframe tbody tr th:only-of-type {\n",
       "        vertical-align: middle;\n",
       "    }\n",
       "\n",
       "    .dataframe tbody tr th {\n",
       "        vertical-align: top;\n",
       "    }\n",
       "\n",
       "    .dataframe thead th {\n",
       "        text-align: right;\n",
       "    }\n",
       "</style>\n",
       "<table border=\"1\" class=\"dataframe\">\n",
       "  <thead>\n",
       "    <tr style=\"text-align: right;\">\n",
       "      <th></th>\n",
       "      <th>customer_id</th>\n",
       "      <th>monetary</th>\n",
       "      <th>recency</th>\n",
       "      <th>frequency</th>\n",
       "      <th>qtde_items</th>\n",
       "      <th>qtde_products</th>\n",
       "      <th>avg_ticket</th>\n",
       "      <th>avg_basket_size</th>\n",
       "    </tr>\n",
       "  </thead>\n",
       "  <tbody>\n",
       "    <tr>\n",
       "      <th>840</th>\n",
       "      <td>14646</td>\n",
       "      <td>279025.70</td>\n",
       "      <td>0</td>\n",
       "      <td>72</td>\n",
       "      <td>196556</td>\n",
       "      <td>2058</td>\n",
       "      <td>135.581001</td>\n",
       "      <td>2729.944444</td>\n",
       "    </tr>\n",
       "    <tr>\n",
       "      <th>419</th>\n",
       "      <td>18102</td>\n",
       "      <td>259129.60</td>\n",
       "      <td>0</td>\n",
       "      <td>60</td>\n",
       "      <td>64114</td>\n",
       "      <td>430</td>\n",
       "      <td>602.626977</td>\n",
       "      <td>1068.566667</td>\n",
       "    </tr>\n",
       "    <tr>\n",
       "      <th>372</th>\n",
       "      <td>17450</td>\n",
       "      <td>194550.79</td>\n",
       "      <td>0</td>\n",
       "      <td>46</td>\n",
       "      <td>69993</td>\n",
       "      <td>337</td>\n",
       "      <td>577.302047</td>\n",
       "      <td>1521.586957</td>\n",
       "    </tr>\n",
       "    <tr>\n",
       "      <th>2578</th>\n",
       "      <td>16446</td>\n",
       "      <td>168472.50</td>\n",
       "      <td>0</td>\n",
       "      <td>2</td>\n",
       "      <td>80997</td>\n",
       "      <td>3</td>\n",
       "      <td>56157.500000</td>\n",
       "      <td>40498.500000</td>\n",
       "    </tr>\n",
       "    <tr>\n",
       "      <th>908</th>\n",
       "      <td>12415</td>\n",
       "      <td>124496.53</td>\n",
       "      <td>30</td>\n",
       "      <td>20</td>\n",
       "      <td>77173</td>\n",
       "      <td>712</td>\n",
       "      <td>174.854677</td>\n",
       "      <td>3858.650000</td>\n",
       "    </tr>\n",
       "  </tbody>\n",
       "</table>\n",
       "</div>"
      ],
      "text/plain": [
       "      customer_id   monetary  recency  frequency  qtde_items  qtde_products    avg_ticket  avg_basket_size\n",
       "840         14646  279025.70        0         72      196556           2058    135.581001      2729.944444\n",
       "419         18102  259129.60        0         60       64114            430    602.626977      1068.566667\n",
       "372         17450  194550.79        0         46       69993            337    577.302047      1521.586957\n",
       "2578        16446  168472.50        0          2       80997              3  56157.500000     40498.500000\n",
       "908         12415  124496.53       30         20       77173            712    174.854677      3858.650000"
      ]
     },
     "execution_count": 249,
     "metadata": {},
     "output_type": "execute_result"
    }
   ],
   "source": [
    "df4.sort_values( 'monetary', ascending=False ).head()"
   ]
  },
  {
   "cell_type": "code",
   "execution_count": 270,
   "id": "820ea65c",
   "metadata": {
    "ExecuteTime": {
     "end_time": "2022-07-15T02:07:00.533510Z",
     "start_time": "2022-07-15T02:07:00.516498Z"
    }
   },
   "outputs": [
    {
     "data": {
      "text/html": [
       "<div>\n",
       "<style scoped>\n",
       "    .dataframe tbody tr th:only-of-type {\n",
       "        vertical-align: middle;\n",
       "    }\n",
       "\n",
       "    .dataframe tbody tr th {\n",
       "        vertical-align: top;\n",
       "    }\n",
       "\n",
       "    .dataframe thead th {\n",
       "        text-align: right;\n",
       "    }\n",
       "</style>\n",
       "<table border=\"1\" class=\"dataframe\">\n",
       "  <thead>\n",
       "    <tr style=\"text-align: right;\">\n",
       "      <th></th>\n",
       "      <th>bill_no</th>\n",
       "      <th>item_name</th>\n",
       "      <th>quantity</th>\n",
       "      <th>date</th>\n",
       "      <th>price</th>\n",
       "      <th>customer_id</th>\n",
       "      <th>country</th>\n",
       "      <th>month</th>\n",
       "      <th>produto_id</th>\n",
       "      <th>monetary</th>\n",
       "    </tr>\n",
       "  </thead>\n",
       "  <tbody>\n",
       "    <tr>\n",
       "      <th>23953</th>\n",
       "      <td>539491</td>\n",
       "      <td>PACK OF 12 WOODLAND TISSUES</td>\n",
       "      <td>12</td>\n",
       "      <td>2010-12-01</td>\n",
       "      <td>0.29</td>\n",
       "      <td>14646</td>\n",
       "      <td>Netherlands</td>\n",
       "      <td>12</td>\n",
       "      <td>695</td>\n",
       "      <td>3.48</td>\n",
       "    </tr>\n",
       "    <tr>\n",
       "      <th>23954</th>\n",
       "      <td>539491</td>\n",
       "      <td>PACK OF 12 PINK POLKADOT TISSUES</td>\n",
       "      <td>12</td>\n",
       "      <td>2010-12-01</td>\n",
       "      <td>0.29</td>\n",
       "      <td>14646</td>\n",
       "      <td>Netherlands</td>\n",
       "      <td>12</td>\n",
       "      <td>406</td>\n",
       "      <td>3.48</td>\n",
       "    </tr>\n",
       "    <tr>\n",
       "      <th>23955</th>\n",
       "      <td>539491</td>\n",
       "      <td>SET OF 3 CAKE TINS PANTRY DESIGN</td>\n",
       "      <td>2</td>\n",
       "      <td>2010-12-01</td>\n",
       "      <td>4.95</td>\n",
       "      <td>14646</td>\n",
       "      <td>Netherlands</td>\n",
       "      <td>12</td>\n",
       "      <td>2130</td>\n",
       "      <td>9.90</td>\n",
       "    </tr>\n",
       "    <tr>\n",
       "      <th>23956</th>\n",
       "      <td>539491</td>\n",
       "      <td>JUMBO STORAGE BAG SUKI</td>\n",
       "      <td>1</td>\n",
       "      <td>2010-12-01</td>\n",
       "      <td>1.95</td>\n",
       "      <td>14646</td>\n",
       "      <td>Netherlands</td>\n",
       "      <td>12</td>\n",
       "      <td>75</td>\n",
       "      <td>1.95</td>\n",
       "    </tr>\n",
       "    <tr>\n",
       "      <th>23957</th>\n",
       "      <td>539491</td>\n",
       "      <td>PACK OF 20 SPACEBOY NAPKINS</td>\n",
       "      <td>2</td>\n",
       "      <td>2010-12-01</td>\n",
       "      <td>0.85</td>\n",
       "      <td>14646</td>\n",
       "      <td>Netherlands</td>\n",
       "      <td>12</td>\n",
       "      <td>1823</td>\n",
       "      <td>1.70</td>\n",
       "    </tr>\n",
       "    <tr>\n",
       "      <th>23958</th>\n",
       "      <td>539491</td>\n",
       "      <td>FUNKY WASHING UP GLOVES ASSORTED</td>\n",
       "      <td>1</td>\n",
       "      <td>2010-12-01</td>\n",
       "      <td>2.10</td>\n",
       "      <td>14646</td>\n",
       "      <td>Netherlands</td>\n",
       "      <td>12</td>\n",
       "      <td>1241</td>\n",
       "      <td>2.10</td>\n",
       "    </tr>\n",
       "    <tr>\n",
       "      <th>23959</th>\n",
       "      <td>539491</td>\n",
       "      <td>RED RETROSPOT BIG BOWL</td>\n",
       "      <td>2</td>\n",
       "      <td>2010-12-01</td>\n",
       "      <td>4.95</td>\n",
       "      <td>14646</td>\n",
       "      <td>Netherlands</td>\n",
       "      <td>12</td>\n",
       "      <td>1880</td>\n",
       "      <td>9.90</td>\n",
       "    </tr>\n",
       "    <tr>\n",
       "      <th>23960</th>\n",
       "      <td>539491</td>\n",
       "      <td>JAM MAKING SET WITH JARS</td>\n",
       "      <td>1</td>\n",
       "      <td>2010-12-01</td>\n",
       "      <td>4.25</td>\n",
       "      <td>14646</td>\n",
       "      <td>Netherlands</td>\n",
       "      <td>12</td>\n",
       "      <td>21</td>\n",
       "      <td>4.25</td>\n",
       "    </tr>\n",
       "    <tr>\n",
       "      <th>23961</th>\n",
       "      <td>539491</td>\n",
       "      <td>CHARLOTTE BAG SUKI DESIGN</td>\n",
       "      <td>2</td>\n",
       "      <td>2010-12-01</td>\n",
       "      <td>0.85</td>\n",
       "      <td>14646</td>\n",
       "      <td>Netherlands</td>\n",
       "      <td>12</td>\n",
       "      <td>879</td>\n",
       "      <td>1.70</td>\n",
       "    </tr>\n",
       "    <tr>\n",
       "      <th>23962</th>\n",
       "      <td>539491</td>\n",
       "      <td>SET/10 IVORY POLKADOT PARTY CANDLES</td>\n",
       "      <td>2</td>\n",
       "      <td>2010-12-01</td>\n",
       "      <td>1.25</td>\n",
       "      <td>14646</td>\n",
       "      <td>Netherlands</td>\n",
       "      <td>12</td>\n",
       "      <td>586</td>\n",
       "      <td>2.50</td>\n",
       "    </tr>\n",
       "  </tbody>\n",
       "</table>\n",
       "</div>"
      ],
      "text/plain": [
       "       bill_no                            item_name  quantity       date  price  customer_id      country  month  produto_id  monetary\n",
       "23953   539491          PACK OF 12 WOODLAND TISSUES        12 2010-12-01   0.29        14646  Netherlands     12         695      3.48\n",
       "23954   539491     PACK OF 12 PINK POLKADOT TISSUES        12 2010-12-01   0.29        14646  Netherlands     12         406      3.48\n",
       "23955   539491     SET OF 3 CAKE TINS PANTRY DESIGN         2 2010-12-01   4.95        14646  Netherlands     12        2130      9.90\n",
       "23956   539491               JUMBO STORAGE BAG SUKI         1 2010-12-01   1.95        14646  Netherlands     12          75      1.95\n",
       "23957   539491          PACK OF 20 SPACEBOY NAPKINS         2 2010-12-01   0.85        14646  Netherlands     12        1823      1.70\n",
       "23958   539491     FUNKY WASHING UP GLOVES ASSORTED         1 2010-12-01   2.10        14646  Netherlands     12        1241      2.10\n",
       "23959   539491               RED RETROSPOT BIG BOWL         2 2010-12-01   4.95        14646  Netherlands     12        1880      9.90\n",
       "23960   539491             JAM MAKING SET WITH JARS         1 2010-12-01   4.25        14646  Netherlands     12          21      4.25\n",
       "23961   539491            CHARLOTTE BAG SUKI DESIGN         2 2010-12-01   0.85        14646  Netherlands     12         879      1.70\n",
       "23962   539491  SET/10 IVORY POLKADOT PARTY CANDLES         2 2010-12-01   1.25        14646  Netherlands     12         586      2.50"
      ]
     },
     "execution_count": 270,
     "metadata": {},
     "output_type": "execute_result"
    }
   ],
   "source": [
    " df3[df3['customer_id'] == 14646].head(10)"
   ]
  },
  {
   "cell_type": "markdown",
   "id": "1421947a",
   "metadata": {},
   "source": [
    "### 4.1.2 Qtd Items"
   ]
  },
  {
   "cell_type": "code",
   "execution_count": 251,
   "id": "5c890004",
   "metadata": {
    "ExecuteTime": {
     "end_time": "2022-07-15T02:00:10.123366Z",
     "start_time": "2022-07-15T02:00:10.111048Z"
    }
   },
   "outputs": [
    {
     "data": {
      "text/html": [
       "<div>\n",
       "<style scoped>\n",
       "    .dataframe tbody tr th:only-of-type {\n",
       "        vertical-align: middle;\n",
       "    }\n",
       "\n",
       "    .dataframe tbody tr th {\n",
       "        vertical-align: top;\n",
       "    }\n",
       "\n",
       "    .dataframe thead th {\n",
       "        text-align: right;\n",
       "    }\n",
       "</style>\n",
       "<table border=\"1\" class=\"dataframe\">\n",
       "  <thead>\n",
       "    <tr style=\"text-align: right;\">\n",
       "      <th></th>\n",
       "      <th>customer_id</th>\n",
       "      <th>monetary</th>\n",
       "      <th>recency</th>\n",
       "      <th>frequency</th>\n",
       "      <th>qtde_items</th>\n",
       "      <th>qtde_products</th>\n",
       "      <th>avg_ticket</th>\n",
       "      <th>avg_basket_size</th>\n",
       "    </tr>\n",
       "  </thead>\n",
       "  <tbody>\n",
       "    <tr>\n",
       "      <th>840</th>\n",
       "      <td>14646</td>\n",
       "      <td>279025.7</td>\n",
       "      <td>0</td>\n",
       "      <td>72</td>\n",
       "      <td>196556</td>\n",
       "      <td>2058</td>\n",
       "      <td>135.581001</td>\n",
       "      <td>2729.944444</td>\n",
       "    </tr>\n",
       "    <tr>\n",
       "      <th>2578</th>\n",
       "      <td>16446</td>\n",
       "      <td>168472.5</td>\n",
       "      <td>0</td>\n",
       "      <td>2</td>\n",
       "      <td>80997</td>\n",
       "      <td>3</td>\n",
       "      <td>56157.500000</td>\n",
       "      <td>40498.500000</td>\n",
       "    </tr>\n",
       "  </tbody>\n",
       "</table>\n",
       "</div>"
      ],
      "text/plain": [
       "      customer_id  monetary  recency  frequency  qtde_items  qtde_products    avg_ticket  avg_basket_size\n",
       "840         14646  279025.7        0         72      196556           2058    135.581001      2729.944444\n",
       "2578        16446  168472.5        0          2       80997              3  56157.500000     40498.500000"
      ]
     },
     "execution_count": 251,
     "metadata": {},
     "output_type": "execute_result"
    }
   ],
   "source": [
    "df4[df4['qtde_items'] >= 80000].head()"
   ]
  },
  {
   "cell_type": "markdown",
   "id": "25c79636",
   "metadata": {},
   "source": [
    " ### 4.1.3. Qtde Products"
   ]
  },
  {
   "cell_type": "code",
   "execution_count": 265,
   "id": "b06d5ce0",
   "metadata": {
    "ExecuteTime": {
     "end_time": "2022-07-15T02:03:20.453161Z",
     "start_time": "2022-07-15T02:03:20.434066Z"
    }
   },
   "outputs": [
    {
     "data": {
      "text/html": [
       "<div>\n",
       "<style scoped>\n",
       "    .dataframe tbody tr th:only-of-type {\n",
       "        vertical-align: middle;\n",
       "    }\n",
       "\n",
       "    .dataframe tbody tr th {\n",
       "        vertical-align: top;\n",
       "    }\n",
       "\n",
       "    .dataframe thead th {\n",
       "        text-align: right;\n",
       "    }\n",
       "</style>\n",
       "<table border=\"1\" class=\"dataframe\">\n",
       "  <thead>\n",
       "    <tr style=\"text-align: right;\">\n",
       "      <th></th>\n",
       "      <th>customer_id</th>\n",
       "      <th>monetary</th>\n",
       "      <th>recency</th>\n",
       "      <th>frequency</th>\n",
       "      <th>qtde_items</th>\n",
       "      <th>qtde_products</th>\n",
       "      <th>avg_ticket</th>\n",
       "      <th>avg_basket_size</th>\n",
       "    </tr>\n",
       "  </thead>\n",
       "  <tbody>\n",
       "    <tr>\n",
       "      <th>68</th>\n",
       "      <td>17841</td>\n",
       "      <td>40820.72</td>\n",
       "      <td>0</td>\n",
       "      <td>124</td>\n",
       "      <td>23024</td>\n",
       "      <td>7822</td>\n",
       "      <td>5.218706</td>\n",
       "      <td>185.677419</td>\n",
       "    </tr>\n",
       "  </tbody>\n",
       "</table>\n",
       "</div>"
      ],
      "text/plain": [
       "    customer_id  monetary  recency  frequency  qtde_items  qtde_products  avg_ticket  avg_basket_size\n",
       "68        17841  40820.72        0        124       23024           7822    5.218706       185.677419"
      ]
     },
     "execution_count": 265,
     "metadata": {},
     "output_type": "execute_result"
    }
   ],
   "source": [
    "#df4.sort_values( 'qtde_products', ascending=False ).head(10)\n",
    "\n",
    "df4[df4['customer_id'] == 17841].head()"
   ]
  },
  {
   "cell_type": "code",
   "execution_count": 268,
   "id": "7388e882",
   "metadata": {
    "ExecuteTime": {
     "end_time": "2022-07-15T02:05:20.822531Z",
     "start_time": "2022-07-15T02:05:20.813958Z"
    }
   },
   "outputs": [
    {
     "data": {
      "text/html": [
       "<div>\n",
       "<style scoped>\n",
       "    .dataframe tbody tr th:only-of-type {\n",
       "        vertical-align: middle;\n",
       "    }\n",
       "\n",
       "    .dataframe tbody tr th {\n",
       "        vertical-align: top;\n",
       "    }\n",
       "\n",
       "    .dataframe thead th {\n",
       "        text-align: right;\n",
       "    }\n",
       "</style>\n",
       "<table border=\"1\" class=\"dataframe\">\n",
       "  <thead>\n",
       "    <tr style=\"text-align: right;\">\n",
       "      <th></th>\n",
       "      <th>bill_no</th>\n",
       "      <th>item_name</th>\n",
       "      <th>quantity</th>\n",
       "      <th>date</th>\n",
       "      <th>price</th>\n",
       "      <th>customer_id</th>\n",
       "      <th>country</th>\n",
       "      <th>month</th>\n",
       "      <th>produto_id</th>\n",
       "      <th>monetary</th>\n",
       "    </tr>\n",
       "  </thead>\n",
       "  <tbody>\n",
       "    <tr>\n",
       "      <th>130227</th>\n",
       "      <td>553573</td>\n",
       "      <td>PANTRY SCRUBBING BRUSH</td>\n",
       "      <td>1</td>\n",
       "      <td>2011-05-01</td>\n",
       "      <td>1.65</td>\n",
       "      <td>16446</td>\n",
       "      <td>United Kingdom</td>\n",
       "      <td>5</td>\n",
       "      <td>2689</td>\n",
       "      <td>1.65</td>\n",
       "    </tr>\n",
       "    <tr>\n",
       "      <th>130228</th>\n",
       "      <td>553573</td>\n",
       "      <td>PANTRY PASTRY BRUSH</td>\n",
       "      <td>1</td>\n",
       "      <td>2011-05-01</td>\n",
       "      <td>1.25</td>\n",
       "      <td>16446</td>\n",
       "      <td>United Kingdom</td>\n",
       "      <td>5</td>\n",
       "      <td>2770</td>\n",
       "      <td>1.25</td>\n",
       "    </tr>\n",
       "    <tr>\n",
       "      <th>385663</th>\n",
       "      <td>581483</td>\n",
       "      <td>PAPER CRAFT , LITTLE BIRDIE</td>\n",
       "      <td>80995</td>\n",
       "      <td>2011-12-01</td>\n",
       "      <td>2.08</td>\n",
       "      <td>16446</td>\n",
       "      <td>United Kingdom</td>\n",
       "      <td>12</td>\n",
       "      <td>3833</td>\n",
       "      <td>168469.60</td>\n",
       "    </tr>\n",
       "  </tbody>\n",
       "</table>\n",
       "</div>"
      ],
      "text/plain": [
       "        bill_no                    item_name  quantity       date  price  customer_id         country  month  produto_id   monetary\n",
       "130227   553573       PANTRY SCRUBBING BRUSH         1 2011-05-01   1.65        16446  United Kingdom      5        2689       1.65\n",
       "130228   553573          PANTRY PASTRY BRUSH         1 2011-05-01   1.25        16446  United Kingdom      5        2770       1.25\n",
       "385663   581483  PAPER CRAFT , LITTLE BIRDIE     80995 2011-12-01   2.08        16446  United Kingdom     12        3833  168469.60"
      ]
     },
     "execution_count": 268,
     "metadata": {},
     "output_type": "execute_result"
    }
   ],
   "source": [
    "#df4[df4['avg_ticket'] == 56157.5]\n",
    "df3[df3['customer_id'] == 16446]"
   ]
  },
  {
   "cell_type": "markdown",
   "id": "4da14e16",
   "metadata": {},
   "source": [
    "### 4.1.5 Frequency"
   ]
  },
  {
   "cell_type": "code",
   "execution_count": 254,
   "id": "264accca",
   "metadata": {
    "ExecuteTime": {
     "end_time": "2022-07-15T02:00:11.212158Z",
     "start_time": "2022-07-15T02:00:11.193388Z"
    }
   },
   "outputs": [
    {
     "data": {
      "text/html": [
       "<div>\n",
       "<style scoped>\n",
       "    .dataframe tbody tr th:only-of-type {\n",
       "        vertical-align: middle;\n",
       "    }\n",
       "\n",
       "    .dataframe tbody tr th {\n",
       "        vertical-align: top;\n",
       "    }\n",
       "\n",
       "    .dataframe thead th {\n",
       "        text-align: right;\n",
       "    }\n",
       "</style>\n",
       "<table border=\"1\" class=\"dataframe\">\n",
       "  <thead>\n",
       "    <tr style=\"text-align: right;\">\n",
       "      <th></th>\n",
       "      <th>customer_id</th>\n",
       "      <th>monetary</th>\n",
       "      <th>recency</th>\n",
       "      <th>frequency</th>\n",
       "      <th>qtde_items</th>\n",
       "      <th>qtde_products</th>\n",
       "      <th>avg_ticket</th>\n",
       "      <th>avg_basket_size</th>\n",
       "    </tr>\n",
       "  </thead>\n",
       "  <tbody>\n",
       "    <tr>\n",
       "      <th>8</th>\n",
       "      <td>15311</td>\n",
       "      <td>60760.10</td>\n",
       "      <td>0</td>\n",
       "      <td>91</td>\n",
       "      <td>38190</td>\n",
       "      <td>2378</td>\n",
       "      <td>25.550925</td>\n",
       "      <td>419.670330</td>\n",
       "    </tr>\n",
       "    <tr>\n",
       "      <th>46</th>\n",
       "      <td>12748</td>\n",
       "      <td>33562.33</td>\n",
       "      <td>0</td>\n",
       "      <td>209</td>\n",
       "      <td>25144</td>\n",
       "      <td>4587</td>\n",
       "      <td>7.316837</td>\n",
       "      <td>120.306220</td>\n",
       "    </tr>\n",
       "    <tr>\n",
       "      <th>68</th>\n",
       "      <td>17841</td>\n",
       "      <td>40820.72</td>\n",
       "      <td>0</td>\n",
       "      <td>124</td>\n",
       "      <td>23024</td>\n",
       "      <td>7822</td>\n",
       "      <td>5.218706</td>\n",
       "      <td>185.677419</td>\n",
       "    </tr>\n",
       "    <tr>\n",
       "      <th>89</th>\n",
       "      <td>14606</td>\n",
       "      <td>12026.90</td>\n",
       "      <td>0</td>\n",
       "      <td>92</td>\n",
       "      <td>6211</td>\n",
       "      <td>2696</td>\n",
       "      <td>4.461016</td>\n",
       "      <td>67.510870</td>\n",
       "    </tr>\n",
       "    <tr>\n",
       "      <th>234</th>\n",
       "      <td>13089</td>\n",
       "      <td>58727.33</td>\n",
       "      <td>0</td>\n",
       "      <td>97</td>\n",
       "      <td>31000</td>\n",
       "      <td>1814</td>\n",
       "      <td>32.374493</td>\n",
       "      <td>319.587629</td>\n",
       "    </tr>\n",
       "  </tbody>\n",
       "</table>\n",
       "</div>"
      ],
      "text/plain": [
       "     customer_id  monetary  recency  frequency  qtde_items  qtde_products  avg_ticket  avg_basket_size\n",
       "8          15311  60760.10        0         91       38190           2378   25.550925       419.670330\n",
       "46         12748  33562.33        0        209       25144           4587    7.316837       120.306220\n",
       "68         17841  40820.72        0        124       23024           7822    5.218706       185.677419\n",
       "89         14606  12026.90        0         92        6211           2696    4.461016        67.510870\n",
       "234        13089  58727.33        0         97       31000           1814   32.374493       319.587629"
      ]
     },
     "execution_count": 254,
     "metadata": {},
     "output_type": "execute_result"
    }
   ],
   "source": [
    "df4[df4['frequency'] > 90]\n",
    "#df3[df3['customer_id'] == 17850]"
   ]
  },
  {
   "cell_type": "markdown",
   "id": "338e5edc",
   "metadata": {
    "ExecuteTime": {
     "end_time": "2022-07-12T19:12:06.572368Z",
     "start_time": "2022-07-12T19:12:06.570412Z"
    }
   },
   "source": [
    "### 4.1.6 Average Basket Size"
   ]
  },
  {
   "cell_type": "code",
   "execution_count": 255,
   "id": "aa96d819",
   "metadata": {
    "ExecuteTime": {
     "end_time": "2022-07-15T02:00:11.589783Z",
     "start_time": "2022-07-15T02:00:11.580841Z"
    }
   },
   "outputs": [
    {
     "data": {
      "text/html": [
       "<div>\n",
       "<style scoped>\n",
       "    .dataframe tbody tr th:only-of-type {\n",
       "        vertical-align: middle;\n",
       "    }\n",
       "\n",
       "    .dataframe tbody tr th {\n",
       "        vertical-align: top;\n",
       "    }\n",
       "\n",
       "    .dataframe thead th {\n",
       "        text-align: right;\n",
       "    }\n",
       "</style>\n",
       "<table border=\"1\" class=\"dataframe\">\n",
       "  <thead>\n",
       "    <tr style=\"text-align: right;\">\n",
       "      <th></th>\n",
       "      <th>customer_id</th>\n",
       "      <th>monetary</th>\n",
       "      <th>recency</th>\n",
       "      <th>frequency</th>\n",
       "      <th>qtde_items</th>\n",
       "      <th>qtde_products</th>\n",
       "      <th>avg_ticket</th>\n",
       "      <th>avg_basket_size</th>\n",
       "    </tr>\n",
       "  </thead>\n",
       "  <tbody>\n",
       "    <tr>\n",
       "      <th>2578</th>\n",
       "      <td>16446</td>\n",
       "      <td>168472.5</td>\n",
       "      <td>0</td>\n",
       "      <td>2</td>\n",
       "      <td>80997</td>\n",
       "      <td>3</td>\n",
       "      <td>56157.5</td>\n",
       "      <td>40498.5</td>\n",
       "    </tr>\n",
       "  </tbody>\n",
       "</table>\n",
       "</div>"
      ],
      "text/plain": [
       "      customer_id  monetary  recency  frequency  qtde_items  qtde_products  avg_ticket  avg_basket_size\n",
       "2578        16446  168472.5        0          2       80997              3     56157.5          40498.5"
      ]
     },
     "execution_count": 255,
     "metadata": {},
     "output_type": "execute_result"
    }
   ],
   "source": [
    "df4[df4['avg_basket_size'] == 40498.5]"
   ]
  },
  {
   "cell_type": "markdown",
   "id": "ded775c9",
   "metadata": {},
   "source": [
    "## Notes"
   ]
  },
  {
   "cell_type": "markdown",
   "id": "e12d9cd9",
   "metadata": {},
   "source": [
    "- Customer 16446 -> Possivel Outlier  Total de compras: 3 / Qtd de produto: 80997 / Gross Revenue: 168469.60\t"
   ]
  },
  {
   "cell_type": "markdown",
   "id": "6e70f591",
   "metadata": {},
   "source": [
    "## 4.2. Bivariate Analysis"
   ]
  },
  {
   "cell_type": "markdown",
   "id": "f89adfc7",
   "metadata": {},
   "source": [
    "### 4.2.1  TOP 50 Produto mais vendido"
   ]
  },
  {
   "cell_type": "code",
   "execution_count": 256,
   "id": "956299d8",
   "metadata": {
    "ExecuteTime": {
     "end_time": "2022-07-15T02:00:12.923278Z",
     "start_time": "2022-07-15T02:00:12.845941Z"
    }
   },
   "outputs": [
    {
     "name": "stderr",
     "output_type": "stream",
     "text": [
      "/opt/anaconda/envs/manfing/lib/python3.9/site-packages/plotly/io/_renderers.py:395: DeprecationWarning:\n",
      "\n",
      "distutils Version classes are deprecated. Use packaging.version instead.\n",
      "\n",
      "/opt/anaconda/envs/manfing/lib/python3.9/site-packages/plotly/io/_renderers.py:395: DeprecationWarning:\n",
      "\n",
      "distutils Version classes are deprecated. Use packaging.version instead.\n",
      "\n"
     ]
    },
    {
     "data": {
      "application/vnd.plotly.v1+json": {
       "config": {
        "plotlyServerURL": "https://plot.ly"
       },
       "data": [
        {
         "branchvalues": "total",
         "domain": {
          "x": [
           0,
           1
          ],
          "y": [
           0,
           1
          ]
         },
         "hovertemplate": "labels=%{label}<br>quantity=%{value}<br>parent=%{parent}<br>id=%{id}<extra></extra>",
         "ids": [
          "60 CAKE CASES VINTAGE CHRISTMAS",
          "60 TEATIME FAIRY CAKE CASES",
          "72 SWEETHEART FAIRY CAKE CASES",
          "ANTIQUE SILVER T-LIGHT GLASS",
          "ASSORTED COLOUR BIRD ORNAMENT",
          "ASSORTED COLOURS SILK FAN",
          "BLACK RECORD COVER FRAME",
          "BROCADE RING PURSE",
          "BUBBLEGUM RING ASSORTED",
          "COLOUR GLASS T-LIGHT HOLDER HANGING",
          "DISCO BALL CHRISTMAS DECORATION",
          "GIRLS ALPHABET IRON ON PATCHES",
          "GROW A FLYTRAP OR SUNFLOWER IN TIN",
          "HEART OF WICKER SMALL",
          "HOMEMADE JAM SCENTED CANDLES",
          "JAM MAKING SET PRINTED",
          "JUMBO  BAG BAROQUE BLACK WHITE",
          "JUMBO BAG ALPHABET",
          "JUMBO BAG APPLES",
          "JUMBO BAG PINK POLKADOT",
          "JUMBO BAG RED RETROSPOT",
          "JUMBO BAG STRAWBERRY",
          "JUMBO STORAGE BAG SUKI",
          "LUNCH BAG APPLE DESIGN",
          "LUNCH BAG RED RETROSPOT",
          "MEDIUM CERAMIC TOP STORAGE JAR",
          "MINI PAINT SET VINTAGE",
          "PACK OF 12 LONDON TISSUES",
          "PACK OF 60 PINK PAISLEY CAKE CASES",
          "PACK OF 72 RETROSPOT CAKE CASES",
          "PACK OF 72 SKULL CAKE CASES",
          "PAPER CHAIN KIT 50'S CHRISTMAS",
          "PAPER CRAFT , LITTLE BIRDIE",
          "PARTY BUNTING",
          "PLACE SETTING WHITE HEART",
          "POPCORN HOLDER",
          "RABBIT NIGHT LIGHT",
          "RED  HARMONICA IN BOX",
          "RED RETROSPOT CHARLOTTE BAG",
          "RED TOADSTOOL LED NIGHT LIGHT",
          "REGENCY CAKESTAND 3 TIER",
          "SET/20 RED RETROSPOT PAPER NAPKINS",
          "SMALL CHINESE STYLE SCISSOR",
          "SMALL POPCORN HOLDER",
          "SPACEBOY LUNCH BOX",
          "TRAVEL CARD WALLET KEEP CALM",
          "VICTORIAN GLASS HANGING T-LIGHT",
          "VINTAGE SNAP CARDS",
          "WHITE HANGING HEART T-LIGHT HOLDER",
          "WORLD WAR 2 GLIDERS ASSTD DESIGNS"
         ],
         "labels": [
          "60 CAKE CASES VINTAGE CHRISTMAS",
          "60 TEATIME FAIRY CAKE CASES",
          "72 SWEETHEART FAIRY CAKE CASES",
          "ANTIQUE SILVER T-LIGHT GLASS",
          "ASSORTED COLOUR BIRD ORNAMENT",
          "ASSORTED COLOURS SILK FAN",
          "BLACK RECORD COVER FRAME",
          "BROCADE RING PURSE",
          "BUBBLEGUM RING ASSORTED",
          "COLOUR GLASS T-LIGHT HOLDER HANGING",
          "DISCO BALL CHRISTMAS DECORATION",
          "GIRLS ALPHABET IRON ON PATCHES",
          "GROW A FLYTRAP OR SUNFLOWER IN TIN",
          "HEART OF WICKER SMALL",
          "HOMEMADE JAM SCENTED CANDLES",
          "JAM MAKING SET PRINTED",
          "JUMBO  BAG BAROQUE BLACK WHITE",
          "JUMBO BAG ALPHABET",
          "JUMBO BAG APPLES",
          "JUMBO BAG PINK POLKADOT",
          "JUMBO BAG RED RETROSPOT",
          "JUMBO BAG STRAWBERRY",
          "JUMBO STORAGE BAG SUKI",
          "LUNCH BAG APPLE DESIGN",
          "LUNCH BAG RED RETROSPOT",
          "MEDIUM CERAMIC TOP STORAGE JAR",
          "MINI PAINT SET VINTAGE",
          "PACK OF 12 LONDON TISSUES",
          "PACK OF 60 PINK PAISLEY CAKE CASES",
          "PACK OF 72 RETROSPOT CAKE CASES",
          "PACK OF 72 SKULL CAKE CASES",
          "PAPER CHAIN KIT 50'S CHRISTMAS",
          "PAPER CRAFT , LITTLE BIRDIE",
          "PARTY BUNTING",
          "PLACE SETTING WHITE HEART",
          "POPCORN HOLDER",
          "RABBIT NIGHT LIGHT",
          "RED  HARMONICA IN BOX",
          "RED RETROSPOT CHARLOTTE BAG",
          "RED TOADSTOOL LED NIGHT LIGHT",
          "REGENCY CAKESTAND 3 TIER",
          "SET/20 RED RETROSPOT PAPER NAPKINS",
          "SMALL CHINESE STYLE SCISSOR",
          "SMALL POPCORN HOLDER",
          "SPACEBOY LUNCH BOX",
          "TRAVEL CARD WALLET KEEP CALM",
          "VICTORIAN GLASS HANGING T-LIGHT",
          "VINTAGE SNAP CARDS",
          "WHITE HANGING HEART T-LIGHT HOLDER",
          "WORLD WAR 2 GLIDERS ASSTD DESIGNS"
         ],
         "name": "",
         "parents": [
          "",
          "",
          "",
          "",
          "",
          "",
          "",
          "",
          "",
          "",
          "",
          "",
          "",
          "",
          "",
          "",
          "",
          "",
          "",
          "",
          "",
          "",
          "",
          "",
          "",
          "",
          "",
          "",
          "",
          "",
          "",
          "",
          "",
          "",
          "",
          "",
          "",
          "",
          "",
          "",
          "",
          "",
          "",
          "",
          "",
          "",
          "",
          "",
          "",
          ""
         ],
         "type": "treemap",
         "values": [
          13019,
          15937,
          11822,
          12865,
          35044,
          21816,
          11402,
          22963,
          11639,
          15259,
          12618,
          12192,
          15604,
          16531,
          11588,
          13958,
          12513,
          12197,
          13527,
          19845,
          45715,
          16725,
          11453,
          11385,
          17136,
          77436,
          25320,
          25249,
          22872,
          31821,
          13949,
          15051,
          80995,
          14817,
          14157,
          29795,
          26944,
          20177,
          12739,
          12739,
          11677,
          12013,
          13308,
          17488,
          13441,
          11769,
          22271,
          11904,
          35425,
          53167
         ]
        }
       ],
       "layout": {
        "legend": {
         "tracegroupgap": 0
        },
        "margin": {
         "t": 60
        },
        "template": {
         "data": {
          "bar": [
           {
            "error_x": {
             "color": "#2a3f5f"
            },
            "error_y": {
             "color": "#2a3f5f"
            },
            "marker": {
             "line": {
              "color": "#E5ECF6",
              "width": 0.5
             },
             "pattern": {
              "fillmode": "overlay",
              "size": 10,
              "solidity": 0.2
             }
            },
            "type": "bar"
           }
          ],
          "barpolar": [
           {
            "marker": {
             "line": {
              "color": "#E5ECF6",
              "width": 0.5
             },
             "pattern": {
              "fillmode": "overlay",
              "size": 10,
              "solidity": 0.2
             }
            },
            "type": "barpolar"
           }
          ],
          "carpet": [
           {
            "aaxis": {
             "endlinecolor": "#2a3f5f",
             "gridcolor": "white",
             "linecolor": "white",
             "minorgridcolor": "white",
             "startlinecolor": "#2a3f5f"
            },
            "baxis": {
             "endlinecolor": "#2a3f5f",
             "gridcolor": "white",
             "linecolor": "white",
             "minorgridcolor": "white",
             "startlinecolor": "#2a3f5f"
            },
            "type": "carpet"
           }
          ],
          "choropleth": [
           {
            "colorbar": {
             "outlinewidth": 0,
             "ticks": ""
            },
            "type": "choropleth"
           }
          ],
          "contour": [
           {
            "colorbar": {
             "outlinewidth": 0,
             "ticks": ""
            },
            "colorscale": [
             [
              0,
              "#0d0887"
             ],
             [
              0.1111111111111111,
              "#46039f"
             ],
             [
              0.2222222222222222,
              "#7201a8"
             ],
             [
              0.3333333333333333,
              "#9c179e"
             ],
             [
              0.4444444444444444,
              "#bd3786"
             ],
             [
              0.5555555555555556,
              "#d8576b"
             ],
             [
              0.6666666666666666,
              "#ed7953"
             ],
             [
              0.7777777777777778,
              "#fb9f3a"
             ],
             [
              0.8888888888888888,
              "#fdca26"
             ],
             [
              1,
              "#f0f921"
             ]
            ],
            "type": "contour"
           }
          ],
          "contourcarpet": [
           {
            "colorbar": {
             "outlinewidth": 0,
             "ticks": ""
            },
            "type": "contourcarpet"
           }
          ],
          "heatmap": [
           {
            "colorbar": {
             "outlinewidth": 0,
             "ticks": ""
            },
            "colorscale": [
             [
              0,
              "#0d0887"
             ],
             [
              0.1111111111111111,
              "#46039f"
             ],
             [
              0.2222222222222222,
              "#7201a8"
             ],
             [
              0.3333333333333333,
              "#9c179e"
             ],
             [
              0.4444444444444444,
              "#bd3786"
             ],
             [
              0.5555555555555556,
              "#d8576b"
             ],
             [
              0.6666666666666666,
              "#ed7953"
             ],
             [
              0.7777777777777778,
              "#fb9f3a"
             ],
             [
              0.8888888888888888,
              "#fdca26"
             ],
             [
              1,
              "#f0f921"
             ]
            ],
            "type": "heatmap"
           }
          ],
          "heatmapgl": [
           {
            "colorbar": {
             "outlinewidth": 0,
             "ticks": ""
            },
            "colorscale": [
             [
              0,
              "#0d0887"
             ],
             [
              0.1111111111111111,
              "#46039f"
             ],
             [
              0.2222222222222222,
              "#7201a8"
             ],
             [
              0.3333333333333333,
              "#9c179e"
             ],
             [
              0.4444444444444444,
              "#bd3786"
             ],
             [
              0.5555555555555556,
              "#d8576b"
             ],
             [
              0.6666666666666666,
              "#ed7953"
             ],
             [
              0.7777777777777778,
              "#fb9f3a"
             ],
             [
              0.8888888888888888,
              "#fdca26"
             ],
             [
              1,
              "#f0f921"
             ]
            ],
            "type": "heatmapgl"
           }
          ],
          "histogram": [
           {
            "marker": {
             "pattern": {
              "fillmode": "overlay",
              "size": 10,
              "solidity": 0.2
             }
            },
            "type": "histogram"
           }
          ],
          "histogram2d": [
           {
            "colorbar": {
             "outlinewidth": 0,
             "ticks": ""
            },
            "colorscale": [
             [
              0,
              "#0d0887"
             ],
             [
              0.1111111111111111,
              "#46039f"
             ],
             [
              0.2222222222222222,
              "#7201a8"
             ],
             [
              0.3333333333333333,
              "#9c179e"
             ],
             [
              0.4444444444444444,
              "#bd3786"
             ],
             [
              0.5555555555555556,
              "#d8576b"
             ],
             [
              0.6666666666666666,
              "#ed7953"
             ],
             [
              0.7777777777777778,
              "#fb9f3a"
             ],
             [
              0.8888888888888888,
              "#fdca26"
             ],
             [
              1,
              "#f0f921"
             ]
            ],
            "type": "histogram2d"
           }
          ],
          "histogram2dcontour": [
           {
            "colorbar": {
             "outlinewidth": 0,
             "ticks": ""
            },
            "colorscale": [
             [
              0,
              "#0d0887"
             ],
             [
              0.1111111111111111,
              "#46039f"
             ],
             [
              0.2222222222222222,
              "#7201a8"
             ],
             [
              0.3333333333333333,
              "#9c179e"
             ],
             [
              0.4444444444444444,
              "#bd3786"
             ],
             [
              0.5555555555555556,
              "#d8576b"
             ],
             [
              0.6666666666666666,
              "#ed7953"
             ],
             [
              0.7777777777777778,
              "#fb9f3a"
             ],
             [
              0.8888888888888888,
              "#fdca26"
             ],
             [
              1,
              "#f0f921"
             ]
            ],
            "type": "histogram2dcontour"
           }
          ],
          "mesh3d": [
           {
            "colorbar": {
             "outlinewidth": 0,
             "ticks": ""
            },
            "type": "mesh3d"
           }
          ],
          "parcoords": [
           {
            "line": {
             "colorbar": {
              "outlinewidth": 0,
              "ticks": ""
             }
            },
            "type": "parcoords"
           }
          ],
          "pie": [
           {
            "automargin": true,
            "type": "pie"
           }
          ],
          "scatter": [
           {
            "fillpattern": {
             "fillmode": "overlay",
             "size": 10,
             "solidity": 0.2
            },
            "type": "scatter"
           }
          ],
          "scatter3d": [
           {
            "line": {
             "colorbar": {
              "outlinewidth": 0,
              "ticks": ""
             }
            },
            "marker": {
             "colorbar": {
              "outlinewidth": 0,
              "ticks": ""
             }
            },
            "type": "scatter3d"
           }
          ],
          "scattercarpet": [
           {
            "marker": {
             "colorbar": {
              "outlinewidth": 0,
              "ticks": ""
             }
            },
            "type": "scattercarpet"
           }
          ],
          "scattergeo": [
           {
            "marker": {
             "colorbar": {
              "outlinewidth": 0,
              "ticks": ""
             }
            },
            "type": "scattergeo"
           }
          ],
          "scattergl": [
           {
            "marker": {
             "colorbar": {
              "outlinewidth": 0,
              "ticks": ""
             }
            },
            "type": "scattergl"
           }
          ],
          "scattermapbox": [
           {
            "marker": {
             "colorbar": {
              "outlinewidth": 0,
              "ticks": ""
             }
            },
            "type": "scattermapbox"
           }
          ],
          "scatterpolar": [
           {
            "marker": {
             "colorbar": {
              "outlinewidth": 0,
              "ticks": ""
             }
            },
            "type": "scatterpolar"
           }
          ],
          "scatterpolargl": [
           {
            "marker": {
             "colorbar": {
              "outlinewidth": 0,
              "ticks": ""
             }
            },
            "type": "scatterpolargl"
           }
          ],
          "scatterternary": [
           {
            "marker": {
             "colorbar": {
              "outlinewidth": 0,
              "ticks": ""
             }
            },
            "type": "scatterternary"
           }
          ],
          "surface": [
           {
            "colorbar": {
             "outlinewidth": 0,
             "ticks": ""
            },
            "colorscale": [
             [
              0,
              "#0d0887"
             ],
             [
              0.1111111111111111,
              "#46039f"
             ],
             [
              0.2222222222222222,
              "#7201a8"
             ],
             [
              0.3333333333333333,
              "#9c179e"
             ],
             [
              0.4444444444444444,
              "#bd3786"
             ],
             [
              0.5555555555555556,
              "#d8576b"
             ],
             [
              0.6666666666666666,
              "#ed7953"
             ],
             [
              0.7777777777777778,
              "#fb9f3a"
             ],
             [
              0.8888888888888888,
              "#fdca26"
             ],
             [
              1,
              "#f0f921"
             ]
            ],
            "type": "surface"
           }
          ],
          "table": [
           {
            "cells": {
             "fill": {
              "color": "#EBF0F8"
             },
             "line": {
              "color": "white"
             }
            },
            "header": {
             "fill": {
              "color": "#C8D4E3"
             },
             "line": {
              "color": "white"
             }
            },
            "type": "table"
           }
          ]
         },
         "layout": {
          "annotationdefaults": {
           "arrowcolor": "#2a3f5f",
           "arrowhead": 0,
           "arrowwidth": 1
          },
          "autotypenumbers": "strict",
          "coloraxis": {
           "colorbar": {
            "outlinewidth": 0,
            "ticks": ""
           }
          },
          "colorscale": {
           "diverging": [
            [
             0,
             "#8e0152"
            ],
            [
             0.1,
             "#c51b7d"
            ],
            [
             0.2,
             "#de77ae"
            ],
            [
             0.3,
             "#f1b6da"
            ],
            [
             0.4,
             "#fde0ef"
            ],
            [
             0.5,
             "#f7f7f7"
            ],
            [
             0.6,
             "#e6f5d0"
            ],
            [
             0.7,
             "#b8e186"
            ],
            [
             0.8,
             "#7fbc41"
            ],
            [
             0.9,
             "#4d9221"
            ],
            [
             1,
             "#276419"
            ]
           ],
           "sequential": [
            [
             0,
             "#0d0887"
            ],
            [
             0.1111111111111111,
             "#46039f"
            ],
            [
             0.2222222222222222,
             "#7201a8"
            ],
            [
             0.3333333333333333,
             "#9c179e"
            ],
            [
             0.4444444444444444,
             "#bd3786"
            ],
            [
             0.5555555555555556,
             "#d8576b"
            ],
            [
             0.6666666666666666,
             "#ed7953"
            ],
            [
             0.7777777777777778,
             "#fb9f3a"
            ],
            [
             0.8888888888888888,
             "#fdca26"
            ],
            [
             1,
             "#f0f921"
            ]
           ],
           "sequentialminus": [
            [
             0,
             "#0d0887"
            ],
            [
             0.1111111111111111,
             "#46039f"
            ],
            [
             0.2222222222222222,
             "#7201a8"
            ],
            [
             0.3333333333333333,
             "#9c179e"
            ],
            [
             0.4444444444444444,
             "#bd3786"
            ],
            [
             0.5555555555555556,
             "#d8576b"
            ],
            [
             0.6666666666666666,
             "#ed7953"
            ],
            [
             0.7777777777777778,
             "#fb9f3a"
            ],
            [
             0.8888888888888888,
             "#fdca26"
            ],
            [
             1,
             "#f0f921"
            ]
           ]
          },
          "colorway": [
           "#636efa",
           "#EF553B",
           "#00cc96",
           "#ab63fa",
           "#FFA15A",
           "#19d3f3",
           "#FF6692",
           "#B6E880",
           "#FF97FF",
           "#FECB52"
          ],
          "font": {
           "color": "#2a3f5f"
          },
          "geo": {
           "bgcolor": "white",
           "lakecolor": "white",
           "landcolor": "#E5ECF6",
           "showlakes": true,
           "showland": true,
           "subunitcolor": "white"
          },
          "hoverlabel": {
           "align": "left"
          },
          "hovermode": "closest",
          "mapbox": {
           "style": "light"
          },
          "paper_bgcolor": "white",
          "plot_bgcolor": "#E5ECF6",
          "polar": {
           "angularaxis": {
            "gridcolor": "white",
            "linecolor": "white",
            "ticks": ""
           },
           "bgcolor": "#E5ECF6",
           "radialaxis": {
            "gridcolor": "white",
            "linecolor": "white",
            "ticks": ""
           }
          },
          "scene": {
           "xaxis": {
            "backgroundcolor": "#E5ECF6",
            "gridcolor": "white",
            "gridwidth": 2,
            "linecolor": "white",
            "showbackground": true,
            "ticks": "",
            "zerolinecolor": "white"
           },
           "yaxis": {
            "backgroundcolor": "#E5ECF6",
            "gridcolor": "white",
            "gridwidth": 2,
            "linecolor": "white",
            "showbackground": true,
            "ticks": "",
            "zerolinecolor": "white"
           },
           "zaxis": {
            "backgroundcolor": "#E5ECF6",
            "gridcolor": "white",
            "gridwidth": 2,
            "linecolor": "white",
            "showbackground": true,
            "ticks": "",
            "zerolinecolor": "white"
           }
          },
          "shapedefaults": {
           "line": {
            "color": "#2a3f5f"
           }
          },
          "ternary": {
           "aaxis": {
            "gridcolor": "white",
            "linecolor": "white",
            "ticks": ""
           },
           "baxis": {
            "gridcolor": "white",
            "linecolor": "white",
            "ticks": ""
           },
           "bgcolor": "#E5ECF6",
           "caxis": {
            "gridcolor": "white",
            "linecolor": "white",
            "ticks": ""
           }
          },
          "title": {
           "x": 0.05
          },
          "xaxis": {
           "automargin": true,
           "gridcolor": "white",
           "linecolor": "white",
           "ticks": "",
           "title": {
            "standoff": 15
           },
           "zerolinecolor": "white",
           "zerolinewidth": 2
          },
          "yaxis": {
           "automargin": true,
           "gridcolor": "white",
           "linecolor": "white",
           "ticks": "",
           "title": {
            "standoff": 15
           },
           "zerolinecolor": "white",
           "zerolinewidth": 2
          }
         }
        }
       }
      },
      "text/html": [
       "<div>                            <div id=\"d57787ba-1c09-46da-b854-9edc2d81c56e\" class=\"plotly-graph-div\" style=\"height:525px; width:100%;\"></div>            <script type=\"text/javascript\">                require([\"plotly\"], function(Plotly) {                    window.PLOTLYENV=window.PLOTLYENV || {};                                    if (document.getElementById(\"d57787ba-1c09-46da-b854-9edc2d81c56e\")) {                    Plotly.newPlot(                        \"d57787ba-1c09-46da-b854-9edc2d81c56e\",                        [{\"branchvalues\":\"total\",\"domain\":{\"x\":[0.0,1.0],\"y\":[0.0,1.0]},\"hovertemplate\":\"labels=%{label}<br>quantity=%{value}<br>parent=%{parent}<br>id=%{id}<extra></extra>\",\"ids\":[\"60 CAKE CASES VINTAGE CHRISTMAS\",\"60 TEATIME FAIRY CAKE CASES\",\"72 SWEETHEART FAIRY CAKE CASES\",\"ANTIQUE SILVER T-LIGHT GLASS\",\"ASSORTED COLOUR BIRD ORNAMENT\",\"ASSORTED COLOURS SILK FAN\",\"BLACK RECORD COVER FRAME\",\"BROCADE RING PURSE\",\"BUBBLEGUM RING ASSORTED\",\"COLOUR GLASS T-LIGHT HOLDER HANGING\",\"DISCO BALL CHRISTMAS DECORATION\",\"GIRLS ALPHABET IRON ON PATCHES\",\"GROW A FLYTRAP OR SUNFLOWER IN TIN\",\"HEART OF WICKER SMALL\",\"HOMEMADE JAM SCENTED CANDLES\",\"JAM MAKING SET PRINTED\",\"JUMBO  BAG BAROQUE BLACK WHITE\",\"JUMBO BAG ALPHABET\",\"JUMBO BAG APPLES\",\"JUMBO BAG PINK POLKADOT\",\"JUMBO BAG RED RETROSPOT\",\"JUMBO BAG STRAWBERRY\",\"JUMBO STORAGE BAG SUKI\",\"LUNCH BAG APPLE DESIGN\",\"LUNCH BAG RED RETROSPOT\",\"MEDIUM CERAMIC TOP STORAGE JAR\",\"MINI PAINT SET VINTAGE\",\"PACK OF 12 LONDON TISSUES\",\"PACK OF 60 PINK PAISLEY CAKE CASES\",\"PACK OF 72 RETROSPOT CAKE CASES\",\"PACK OF 72 SKULL CAKE CASES\",\"PAPER CHAIN KIT 50'S CHRISTMAS\",\"PAPER CRAFT , LITTLE BIRDIE\",\"PARTY BUNTING\",\"PLACE SETTING WHITE HEART\",\"POPCORN HOLDER\",\"RABBIT NIGHT LIGHT\",\"RED  HARMONICA IN BOX\",\"RED RETROSPOT CHARLOTTE BAG\",\"RED TOADSTOOL LED NIGHT LIGHT\",\"REGENCY CAKESTAND 3 TIER\",\"SET/20 RED RETROSPOT PAPER NAPKINS\",\"SMALL CHINESE STYLE SCISSOR\",\"SMALL POPCORN HOLDER\",\"SPACEBOY LUNCH BOX\",\"TRAVEL CARD WALLET KEEP CALM\",\"VICTORIAN GLASS HANGING T-LIGHT\",\"VINTAGE SNAP CARDS\",\"WHITE HANGING HEART T-LIGHT HOLDER\",\"WORLD WAR 2 GLIDERS ASSTD DESIGNS\"],\"labels\":[\"60 CAKE CASES VINTAGE CHRISTMAS\",\"60 TEATIME FAIRY CAKE CASES\",\"72 SWEETHEART FAIRY CAKE CASES\",\"ANTIQUE SILVER T-LIGHT GLASS\",\"ASSORTED COLOUR BIRD ORNAMENT\",\"ASSORTED COLOURS SILK FAN\",\"BLACK RECORD COVER FRAME\",\"BROCADE RING PURSE\",\"BUBBLEGUM RING ASSORTED\",\"COLOUR GLASS T-LIGHT HOLDER HANGING\",\"DISCO BALL CHRISTMAS DECORATION\",\"GIRLS ALPHABET IRON ON PATCHES\",\"GROW A FLYTRAP OR SUNFLOWER IN TIN\",\"HEART OF WICKER SMALL\",\"HOMEMADE JAM SCENTED CANDLES\",\"JAM MAKING SET PRINTED\",\"JUMBO  BAG BAROQUE BLACK WHITE\",\"JUMBO BAG ALPHABET\",\"JUMBO BAG APPLES\",\"JUMBO BAG PINK POLKADOT\",\"JUMBO BAG RED RETROSPOT\",\"JUMBO BAG STRAWBERRY\",\"JUMBO STORAGE BAG SUKI\",\"LUNCH BAG APPLE DESIGN\",\"LUNCH BAG RED RETROSPOT\",\"MEDIUM CERAMIC TOP STORAGE JAR\",\"MINI PAINT SET VINTAGE\",\"PACK OF 12 LONDON TISSUES\",\"PACK OF 60 PINK PAISLEY CAKE CASES\",\"PACK OF 72 RETROSPOT CAKE CASES\",\"PACK OF 72 SKULL CAKE CASES\",\"PAPER CHAIN KIT 50'S CHRISTMAS\",\"PAPER CRAFT , LITTLE BIRDIE\",\"PARTY BUNTING\",\"PLACE SETTING WHITE HEART\",\"POPCORN HOLDER\",\"RABBIT NIGHT LIGHT\",\"RED  HARMONICA IN BOX\",\"RED RETROSPOT CHARLOTTE BAG\",\"RED TOADSTOOL LED NIGHT LIGHT\",\"REGENCY CAKESTAND 3 TIER\",\"SET/20 RED RETROSPOT PAPER NAPKINS\",\"SMALL CHINESE STYLE SCISSOR\",\"SMALL POPCORN HOLDER\",\"SPACEBOY LUNCH BOX\",\"TRAVEL CARD WALLET KEEP CALM\",\"VICTORIAN GLASS HANGING T-LIGHT\",\"VINTAGE SNAP CARDS\",\"WHITE HANGING HEART T-LIGHT HOLDER\",\"WORLD WAR 2 GLIDERS ASSTD DESIGNS\"],\"name\":\"\",\"parents\":[\"\",\"\",\"\",\"\",\"\",\"\",\"\",\"\",\"\",\"\",\"\",\"\",\"\",\"\",\"\",\"\",\"\",\"\",\"\",\"\",\"\",\"\",\"\",\"\",\"\",\"\",\"\",\"\",\"\",\"\",\"\",\"\",\"\",\"\",\"\",\"\",\"\",\"\",\"\",\"\",\"\",\"\",\"\",\"\",\"\",\"\",\"\",\"\",\"\",\"\"],\"values\":[13019,15937,11822,12865,35044,21816,11402,22963,11639,15259,12618,12192,15604,16531,11588,13958,12513,12197,13527,19845,45715,16725,11453,11385,17136,77436,25320,25249,22872,31821,13949,15051,80995,14817,14157,29795,26944,20177,12739,12739,11677,12013,13308,17488,13441,11769,22271,11904,35425,53167],\"type\":\"treemap\"}],                        {\"template\":{\"data\":{\"histogram2dcontour\":[{\"type\":\"histogram2dcontour\",\"colorbar\":{\"outlinewidth\":0,\"ticks\":\"\"},\"colorscale\":[[0.0,\"#0d0887\"],[0.1111111111111111,\"#46039f\"],[0.2222222222222222,\"#7201a8\"],[0.3333333333333333,\"#9c179e\"],[0.4444444444444444,\"#bd3786\"],[0.5555555555555556,\"#d8576b\"],[0.6666666666666666,\"#ed7953\"],[0.7777777777777778,\"#fb9f3a\"],[0.8888888888888888,\"#fdca26\"],[1.0,\"#f0f921\"]]}],\"choropleth\":[{\"type\":\"choropleth\",\"colorbar\":{\"outlinewidth\":0,\"ticks\":\"\"}}],\"histogram2d\":[{\"type\":\"histogram2d\",\"colorbar\":{\"outlinewidth\":0,\"ticks\":\"\"},\"colorscale\":[[0.0,\"#0d0887\"],[0.1111111111111111,\"#46039f\"],[0.2222222222222222,\"#7201a8\"],[0.3333333333333333,\"#9c179e\"],[0.4444444444444444,\"#bd3786\"],[0.5555555555555556,\"#d8576b\"],[0.6666666666666666,\"#ed7953\"],[0.7777777777777778,\"#fb9f3a\"],[0.8888888888888888,\"#fdca26\"],[1.0,\"#f0f921\"]]}],\"heatmap\":[{\"type\":\"heatmap\",\"colorbar\":{\"outlinewidth\":0,\"ticks\":\"\"},\"colorscale\":[[0.0,\"#0d0887\"],[0.1111111111111111,\"#46039f\"],[0.2222222222222222,\"#7201a8\"],[0.3333333333333333,\"#9c179e\"],[0.4444444444444444,\"#bd3786\"],[0.5555555555555556,\"#d8576b\"],[0.6666666666666666,\"#ed7953\"],[0.7777777777777778,\"#fb9f3a\"],[0.8888888888888888,\"#fdca26\"],[1.0,\"#f0f921\"]]}],\"heatmapgl\":[{\"type\":\"heatmapgl\",\"colorbar\":{\"outlinewidth\":0,\"ticks\":\"\"},\"colorscale\":[[0.0,\"#0d0887\"],[0.1111111111111111,\"#46039f\"],[0.2222222222222222,\"#7201a8\"],[0.3333333333333333,\"#9c179e\"],[0.4444444444444444,\"#bd3786\"],[0.5555555555555556,\"#d8576b\"],[0.6666666666666666,\"#ed7953\"],[0.7777777777777778,\"#fb9f3a\"],[0.8888888888888888,\"#fdca26\"],[1.0,\"#f0f921\"]]}],\"contourcarpet\":[{\"type\":\"contourcarpet\",\"colorbar\":{\"outlinewidth\":0,\"ticks\":\"\"}}],\"contour\":[{\"type\":\"contour\",\"colorbar\":{\"outlinewidth\":0,\"ticks\":\"\"},\"colorscale\":[[0.0,\"#0d0887\"],[0.1111111111111111,\"#46039f\"],[0.2222222222222222,\"#7201a8\"],[0.3333333333333333,\"#9c179e\"],[0.4444444444444444,\"#bd3786\"],[0.5555555555555556,\"#d8576b\"],[0.6666666666666666,\"#ed7953\"],[0.7777777777777778,\"#fb9f3a\"],[0.8888888888888888,\"#fdca26\"],[1.0,\"#f0f921\"]]}],\"surface\":[{\"type\":\"surface\",\"colorbar\":{\"outlinewidth\":0,\"ticks\":\"\"},\"colorscale\":[[0.0,\"#0d0887\"],[0.1111111111111111,\"#46039f\"],[0.2222222222222222,\"#7201a8\"],[0.3333333333333333,\"#9c179e\"],[0.4444444444444444,\"#bd3786\"],[0.5555555555555556,\"#d8576b\"],[0.6666666666666666,\"#ed7953\"],[0.7777777777777778,\"#fb9f3a\"],[0.8888888888888888,\"#fdca26\"],[1.0,\"#f0f921\"]]}],\"mesh3d\":[{\"type\":\"mesh3d\",\"colorbar\":{\"outlinewidth\":0,\"ticks\":\"\"}}],\"scatter\":[{\"fillpattern\":{\"fillmode\":\"overlay\",\"size\":10,\"solidity\":0.2},\"type\":\"scatter\"}],\"parcoords\":[{\"type\":\"parcoords\",\"line\":{\"colorbar\":{\"outlinewidth\":0,\"ticks\":\"\"}}}],\"scatterpolargl\":[{\"type\":\"scatterpolargl\",\"marker\":{\"colorbar\":{\"outlinewidth\":0,\"ticks\":\"\"}}}],\"bar\":[{\"error_x\":{\"color\":\"#2a3f5f\"},\"error_y\":{\"color\":\"#2a3f5f\"},\"marker\":{\"line\":{\"color\":\"#E5ECF6\",\"width\":0.5},\"pattern\":{\"fillmode\":\"overlay\",\"size\":10,\"solidity\":0.2}},\"type\":\"bar\"}],\"scattergeo\":[{\"type\":\"scattergeo\",\"marker\":{\"colorbar\":{\"outlinewidth\":0,\"ticks\":\"\"}}}],\"scatterpolar\":[{\"type\":\"scatterpolar\",\"marker\":{\"colorbar\":{\"outlinewidth\":0,\"ticks\":\"\"}}}],\"histogram\":[{\"marker\":{\"pattern\":{\"fillmode\":\"overlay\",\"size\":10,\"solidity\":0.2}},\"type\":\"histogram\"}],\"scattergl\":[{\"type\":\"scattergl\",\"marker\":{\"colorbar\":{\"outlinewidth\":0,\"ticks\":\"\"}}}],\"scatter3d\":[{\"type\":\"scatter3d\",\"line\":{\"colorbar\":{\"outlinewidth\":0,\"ticks\":\"\"}},\"marker\":{\"colorbar\":{\"outlinewidth\":0,\"ticks\":\"\"}}}],\"scattermapbox\":[{\"type\":\"scattermapbox\",\"marker\":{\"colorbar\":{\"outlinewidth\":0,\"ticks\":\"\"}}}],\"scatterternary\":[{\"type\":\"scatterternary\",\"marker\":{\"colorbar\":{\"outlinewidth\":0,\"ticks\":\"\"}}}],\"scattercarpet\":[{\"type\":\"scattercarpet\",\"marker\":{\"colorbar\":{\"outlinewidth\":0,\"ticks\":\"\"}}}],\"carpet\":[{\"aaxis\":{\"endlinecolor\":\"#2a3f5f\",\"gridcolor\":\"white\",\"linecolor\":\"white\",\"minorgridcolor\":\"white\",\"startlinecolor\":\"#2a3f5f\"},\"baxis\":{\"endlinecolor\":\"#2a3f5f\",\"gridcolor\":\"white\",\"linecolor\":\"white\",\"minorgridcolor\":\"white\",\"startlinecolor\":\"#2a3f5f\"},\"type\":\"carpet\"}],\"table\":[{\"cells\":{\"fill\":{\"color\":\"#EBF0F8\"},\"line\":{\"color\":\"white\"}},\"header\":{\"fill\":{\"color\":\"#C8D4E3\"},\"line\":{\"color\":\"white\"}},\"type\":\"table\"}],\"barpolar\":[{\"marker\":{\"line\":{\"color\":\"#E5ECF6\",\"width\":0.5},\"pattern\":{\"fillmode\":\"overlay\",\"size\":10,\"solidity\":0.2}},\"type\":\"barpolar\"}],\"pie\":[{\"automargin\":true,\"type\":\"pie\"}]},\"layout\":{\"autotypenumbers\":\"strict\",\"colorway\":[\"#636efa\",\"#EF553B\",\"#00cc96\",\"#ab63fa\",\"#FFA15A\",\"#19d3f3\",\"#FF6692\",\"#B6E880\",\"#FF97FF\",\"#FECB52\"],\"font\":{\"color\":\"#2a3f5f\"},\"hovermode\":\"closest\",\"hoverlabel\":{\"align\":\"left\"},\"paper_bgcolor\":\"white\",\"plot_bgcolor\":\"#E5ECF6\",\"polar\":{\"bgcolor\":\"#E5ECF6\",\"angularaxis\":{\"gridcolor\":\"white\",\"linecolor\":\"white\",\"ticks\":\"\"},\"radialaxis\":{\"gridcolor\":\"white\",\"linecolor\":\"white\",\"ticks\":\"\"}},\"ternary\":{\"bgcolor\":\"#E5ECF6\",\"aaxis\":{\"gridcolor\":\"white\",\"linecolor\":\"white\",\"ticks\":\"\"},\"baxis\":{\"gridcolor\":\"white\",\"linecolor\":\"white\",\"ticks\":\"\"},\"caxis\":{\"gridcolor\":\"white\",\"linecolor\":\"white\",\"ticks\":\"\"}},\"coloraxis\":{\"colorbar\":{\"outlinewidth\":0,\"ticks\":\"\"}},\"colorscale\":{\"sequential\":[[0.0,\"#0d0887\"],[0.1111111111111111,\"#46039f\"],[0.2222222222222222,\"#7201a8\"],[0.3333333333333333,\"#9c179e\"],[0.4444444444444444,\"#bd3786\"],[0.5555555555555556,\"#d8576b\"],[0.6666666666666666,\"#ed7953\"],[0.7777777777777778,\"#fb9f3a\"],[0.8888888888888888,\"#fdca26\"],[1.0,\"#f0f921\"]],\"sequentialminus\":[[0.0,\"#0d0887\"],[0.1111111111111111,\"#46039f\"],[0.2222222222222222,\"#7201a8\"],[0.3333333333333333,\"#9c179e\"],[0.4444444444444444,\"#bd3786\"],[0.5555555555555556,\"#d8576b\"],[0.6666666666666666,\"#ed7953\"],[0.7777777777777778,\"#fb9f3a\"],[0.8888888888888888,\"#fdca26\"],[1.0,\"#f0f921\"]],\"diverging\":[[0,\"#8e0152\"],[0.1,\"#c51b7d\"],[0.2,\"#de77ae\"],[0.3,\"#f1b6da\"],[0.4,\"#fde0ef\"],[0.5,\"#f7f7f7\"],[0.6,\"#e6f5d0\"],[0.7,\"#b8e186\"],[0.8,\"#7fbc41\"],[0.9,\"#4d9221\"],[1,\"#276419\"]]},\"xaxis\":{\"gridcolor\":\"white\",\"linecolor\":\"white\",\"ticks\":\"\",\"title\":{\"standoff\":15},\"zerolinecolor\":\"white\",\"automargin\":true,\"zerolinewidth\":2},\"yaxis\":{\"gridcolor\":\"white\",\"linecolor\":\"white\",\"ticks\":\"\",\"title\":{\"standoff\":15},\"zerolinecolor\":\"white\",\"automargin\":true,\"zerolinewidth\":2},\"scene\":{\"xaxis\":{\"backgroundcolor\":\"#E5ECF6\",\"gridcolor\":\"white\",\"linecolor\":\"white\",\"showbackground\":true,\"ticks\":\"\",\"zerolinecolor\":\"white\",\"gridwidth\":2},\"yaxis\":{\"backgroundcolor\":\"#E5ECF6\",\"gridcolor\":\"white\",\"linecolor\":\"white\",\"showbackground\":true,\"ticks\":\"\",\"zerolinecolor\":\"white\",\"gridwidth\":2},\"zaxis\":{\"backgroundcolor\":\"#E5ECF6\",\"gridcolor\":\"white\",\"linecolor\":\"white\",\"showbackground\":true,\"ticks\":\"\",\"zerolinecolor\":\"white\",\"gridwidth\":2}},\"shapedefaults\":{\"line\":{\"color\":\"#2a3f5f\"}},\"annotationdefaults\":{\"arrowcolor\":\"#2a3f5f\",\"arrowhead\":0,\"arrowwidth\":1},\"geo\":{\"bgcolor\":\"white\",\"landcolor\":\"#E5ECF6\",\"subunitcolor\":\"white\",\"showland\":true,\"showlakes\":true,\"lakecolor\":\"white\"},\"title\":{\"x\":0.05},\"mapbox\":{\"style\":\"light\"}}},\"legend\":{\"tracegroupgap\":0},\"margin\":{\"t\":60}},                        {\"responsive\": true}                    ).then(function(){\n",
       "                            \n",
       "var gd = document.getElementById('d57787ba-1c09-46da-b854-9edc2d81c56e');\n",
       "var x = new MutationObserver(function (mutations, observer) {{\n",
       "        var display = window.getComputedStyle(gd).display;\n",
       "        if (!display || display === 'none') {{\n",
       "            console.log([gd, 'removed!']);\n",
       "            Plotly.purge(gd);\n",
       "            observer.disconnect();\n",
       "        }}\n",
       "}});\n",
       "\n",
       "// Listen for the removal of the full notebook cells\n",
       "var notebookContainer = gd.closest('#notebook-container');\n",
       "if (notebookContainer) {{\n",
       "    x.observe(notebookContainer, {childList: true});\n",
       "}}\n",
       "\n",
       "// Listen for the clearing of the current output cell\n",
       "var outputEl = gd.closest('.output');\n",
       "if (outputEl) {{\n",
       "    x.observe(outputEl, {childList: true});\n",
       "}}\n",
       "\n",
       "                        })                };                });            </script>        </div>"
      ]
     },
     "metadata": {},
     "output_type": "display_data"
    }
   ],
   "source": [
    "aux = df3[['item_name', 'quantity']].groupby('item_name').sum().reset_index()\n",
    "aux = aux.sort_values( 'quantity', ascending=False).head(50)\n",
    "\n",
    "fig = px.treemap( aux, path=['item_name'], values='quantity')\n",
    "fig.show()"
   ]
  },
  {
   "cell_type": "markdown",
   "id": "ade189e1",
   "metadata": {},
   "source": [
    "### 4.2.2 TOP 20 ID mais vendido"
   ]
  },
  {
   "cell_type": "code",
   "execution_count": 257,
   "id": "1ab9c562",
   "metadata": {
    "ExecuteTime": {
     "end_time": "2022-07-15T02:00:13.712590Z",
     "start_time": "2022-07-15T02:00:13.459981Z"
    }
   },
   "outputs": [
    {
     "data": {
      "text/plain": [
       "<AxesSubplot:xlabel='produto_id', ylabel='quantity'>"
      ]
     },
     "execution_count": 257,
     "metadata": {},
     "output_type": "execute_result"
    },
    {
     "data": {
      "image/png": "[encoded data removed]",
      "text/plain": [
       "<Figure size 1800x864 with 1 Axes>"
      ]
     },
     "metadata": {},
     "output_type": "display_data"
    }
   ],
   "source": [
    "aux = df3[['produto_id', 'quantity']].groupby('produto_id').sum().reset_index()\n",
    "aux = aux.sort_values( 'quantity', ascending=False).head(20)\n",
    "sns.barplot( x='produto_id', y='quantity', data=aux)"
   ]
  },
  {
   "cell_type": "markdown",
   "id": "c6f68edb",
   "metadata": {},
   "source": [
    "### 4.2.3 Gross Month"
   ]
  },
  {
   "cell_type": "code",
   "execution_count": 258,
   "id": "a78c74c1",
   "metadata": {
    "ExecuteTime": {
     "end_time": "2022-07-15T02:00:14.066313Z",
     "start_time": "2022-07-15T02:00:13.892395Z"
    }
   },
   "outputs": [
    {
     "data": {
      "text/plain": [
       "<AxesSubplot:xlabel='month', ylabel='monetary'>"
      ]
     },
     "execution_count": 258,
     "metadata": {},
     "output_type": "execute_result"
    },
    {
     "data": {
      "image/png": "[encoded data removed]",
      "text/plain": [
       "<Figure size 1800x864 with 1 Axes>"
      ]
     },
     "metadata": {},
     "output_type": "display_data"
    }
   ],
   "source": [
    "aux = df3[['date', 'month', 'monetary']].groupby( 'month' ).sum().reset_index()\n",
    "sns.barplot( x='month', y='monetary', data=aux)"
   ]
  },
  {
   "cell_type": "markdown",
   "id": "332efd01",
   "metadata": {},
   "source": [
    "# 4.2.4 bill_no por Country"
   ]
  },
  {
   "cell_type": "code",
   "execution_count": 259,
   "id": "99e42462",
   "metadata": {
    "ExecuteTime": {
     "end_time": "2022-07-15T02:00:14.568745Z",
     "start_time": "2022-07-15T02:00:14.266127Z"
    }
   },
   "outputs": [
    {
     "data": {
      "image/png": "[encoded data removed]",
      "text/plain": [
       "<Figure size 1800x864 with 1 Axes>"
      ]
     },
     "metadata": {},
     "output_type": "display_data"
    }
   ],
   "source": [
    "aux = df3[['bill_no', 'country']].groupby( 'country' ).count().reset_index()\n",
    "sns.barplot( x='country', y='bill_no', data=aux)\n",
    "plt.xticks(rotation=90);"
   ]
  },
  {
   "cell_type": "markdown",
   "id": "c03bd39f",
   "metadata": {},
   "source": [
    "## Notes"
   ]
  },
  {
   "cell_type": "markdown",
   "id": "70797c0e",
   "metadata": {},
   "source": [
    "- Desbalanceamento no conjunto de dados United Kingdom representa 91% de toda a base "
   ]
  }
 ],
 "metadata": {
  "kernelspec": {
   "display_name": "Python 3 (ipykernel)",
   "language": "python",
   "name": "python3"
  },
  "language_info": {
   "codemirror_mode": {
    "name": "ipython",
    "version": 3
   },
   "file_extension": ".py",
   "mimetype": "text/x-python",
   "name": "python",
   "nbconvert_exporter": "python",
   "pygments_lexer": "ipython3",
   "version": "3.9.12"
  }
 },
 "nbformat": 4,
 "nbformat_minor": 5
}
