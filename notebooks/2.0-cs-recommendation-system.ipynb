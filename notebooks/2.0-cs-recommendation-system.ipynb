{
 "cells": [
  {
   "cell_type": "markdown",
   "id": "19691aae",
   "metadata": {},
   "source": [
    "#  Market Basket Analysis with Apriori Algorithm"
   ]
  },
  {
   "cell_type": "markdown",
   "id": "4c93ea58",
   "metadata": {},
   "source": [
    "Sugestão de produtos aos usuários. Neste estudo, aplicaremos a análise Market Basket usando o algoritmo Apriori. \n",
    "\n",
    "As regras de Associação têm como premissa básica encontrar elementos que implicam na presença de outros elementos em uma mesma transação, ou seja, encontrar relacionamentos ou padrões frequentes entre conjuntos de dados."
   ]
  },
  {
   "cell_type": "markdown",
   "id": "923f2480",
   "metadata": {},
   "source": [
    "**Conjunto de dados:** Foi utilizado o conjunto de dados Online Retail II, que inclui os dados de vendas da loja de vendas online sediada no Reino Unido."
   ]
  },
  {
   "cell_type": "markdown",
   "id": "b0500eb3",
   "metadata": {},
   "source": [
    "### Variables Descriptions:\n",
    "\n",
    "   - BillNo: bill number -> operation.\n",
    "   - Itemname: Product name\n",
    "   - Quantity: Number of products\n",
    "   - Date\n",
    "   - Price\n",
    "   - CustomerID: Unique customer number\n",
    "   - Country\n",
    "   - **produto_id -> foi criado essa coluna no dataset** "
   ]
  },
  {
   "cell_type": "markdown",
   "id": "fd6d2b4c",
   "metadata": {},
   "source": [
    "#### Métricas \n",
    "   - **support:**\n",
    "   - **suporte antecedente** \n",
    "   - **suporte conseqüente** \n",
    "   - **confiança** \n",
    "   - **lift** "
   ]
  },
  {
   "cell_type": "markdown",
   "id": "5aa78cc7",
   "metadata": {},
   "source": [
    "## Referencias:\n",
    "http://rasbt.github.io/mlxtend/user_guide/frequent_patterns/association_rules/\n",
    "\n",
    "http://rasbt.github.io/mlxtend/api_subpackages/mlxtend.frequent_patterns/"
   ]
  },
  {
   "cell_type": "markdown",
   "id": "a1e210c2",
   "metadata": {},
   "source": [
    "# 0.0. Imports"
   ]
  },
  {
   "cell_type": "code",
   "execution_count": 88,
   "id": "f7fe1b48",
   "metadata": {
    "ExecuteTime": {
     "end_time": "2022-07-16T12:12:09.631393Z",
     "start_time": "2022-07-16T12:12:09.628534Z"
    }
   },
   "outputs": [],
   "source": [
    "import numpy    as np\n",
    "import pandas   as pd\n",
    "import datetime as dt\n",
    "import pickle\n",
    "import inflection\n",
    "from mlxtend.frequent_patterns import apriori\n",
    "from mlxtend.frequent_patterns import association_rules"
   ]
  },
  {
   "cell_type": "markdown",
   "id": "39bff33a",
   "metadata": {},
   "source": [
    "# 0.1. Function"
   ]
  },
  {
   "cell_type": "code",
   "execution_count": 2,
   "id": "7ec9f999",
   "metadata": {
    "ExecuteTime": {
     "end_time": "2022-07-16T10:33:58.936184Z",
     "start_time": "2022-07-16T10:33:58.925248Z"
    }
   },
   "outputs": [],
   "source": [
    " def data_preparation( dataframe ):\n",
    "    # Rename Columns  \n",
    "    cols_old = ['BillNo', 'ItemName', 'Quantity', 'Date', 'Price', 'CustomerID', 'Country']\n",
    "\n",
    "    snakecase = lambda x: inflection.underscore( x )\n",
    "    cols_news = list( map( snakecase, cols_old ) )\n",
    "\n",
    "    # Rename\n",
    "    dataframe.columns = cols_news\n",
    "    \n",
    "    # Drop NA\n",
    "    dataframe = dataframe.dropna( subset=['item_name','customer_id'] )\n",
    "    \n",
    "    # Data Types\n",
    "    #dataframe['customer_id'] = dataframe['customer_id'].astype(int)\n",
    "    #dataframe['bill_no'] = dataframe['bill_no'].astype(int)\n",
    "    \n",
    "    #feature_engineering\n",
    "    dataframe = dataframe.loc[dataframe['price'] >= 0.04,:]\n",
    "\n",
    "    dataframe = dataframe[~dataframe[\"item_name\"].str.contains( \"POST\", na=False )]\n",
    "    \n",
    "    dataframe = dataframe[~dataframe['country'].isin( [\"Unspecified\"] )]\n",
    "\n",
    "    dataframe = dataframe[~dataframe['customer_id'].isin( [16446] )]\n",
    "    \n",
    "    # removendo hora\n",
    "    #dataframe['date'] = dataframe['date'].apply( get_month )\n",
    "    # month\n",
    "    #dataframe['month'] = dataframe['date'].dt.month\n",
    "\n",
    "    # data product_id -> criando codigo unico para os produtos.\n",
    "    df_product_id = dataframe.drop( ['bill_no', 'quantity', 'date', 'price','customer_id', 'country'], axis=1 ).drop_duplicates( ignore_index=True )\n",
    "    df_product_id = pd.DataFrame( df_product_id ) \n",
    "    df_product_id['produto_id'] = pd.factorize( df_product_id['item_name'])[0]\n",
    "\n",
    "    # merge produto_id com dataframe\n",
    "    dataframe = pd.merge( dataframe, df_product_id, on='item_name', how='left' )\n",
    "    \n",
    "    return dataframe"
   ]
  },
  {
   "cell_type": "markdown",
   "id": "aac408ab",
   "metadata": {},
   "source": [
    "**Função data_preparation foi construida a partir do dataset data-exploration, após a análise dos dados e entendimento de algumas Premissas de Negócios**"
   ]
  },
  {
   "cell_type": "markdown",
   "id": "d3072d8c",
   "metadata": {},
   "source": [
    "# 1.0. Loading Data"
   ]
  },
  {
   "cell_type": "code",
   "execution_count": 3,
   "id": "86d13263",
   "metadata": {
    "ExecuteTime": {
     "end_time": "2022-07-16T10:34:36.638915Z",
     "start_time": "2022-07-16T10:34:02.493860Z"
    }
   },
   "outputs": [],
   "source": [
    "df_raw = pd.read_excel( '../data/raw/DataSet_Test.xlsx', usecols=\"A:G\" )"
   ]
  },
  {
   "cell_type": "code",
   "execution_count": 4,
   "id": "ad57ccb0",
   "metadata": {
    "ExecuteTime": {
     "end_time": "2022-07-16T10:34:36.654384Z",
     "start_time": "2022-07-16T10:34:36.640159Z"
    }
   },
   "outputs": [],
   "source": [
    "df1 = df_raw.copy()"
   ]
  },
  {
   "cell_type": "markdown",
   "id": "cf92c840",
   "metadata": {},
   "source": [
    "# 2.0. Data preparation and Feature Engineering"
   ]
  },
  {
   "cell_type": "code",
   "execution_count": 5,
   "id": "8d1ce0ed",
   "metadata": {
    "ExecuteTime": {
     "end_time": "2022-07-16T10:34:37.084636Z",
     "start_time": "2022-07-16T10:34:36.655451Z"
    }
   },
   "outputs": [
    {
     "data": {
      "text/html": [
       "<div>\n",
       "<style scoped>\n",
       "    .dataframe tbody tr th:only-of-type {\n",
       "        vertical-align: middle;\n",
       "    }\n",
       "\n",
       "    .dataframe tbody tr th {\n",
       "        vertical-align: top;\n",
       "    }\n",
       "\n",
       "    .dataframe thead th {\n",
       "        text-align: right;\n",
       "    }\n",
       "</style>\n",
       "<table border=\"1\" class=\"dataframe\">\n",
       "  <thead>\n",
       "    <tr style=\"text-align: right;\">\n",
       "      <th></th>\n",
       "      <th>bill_no</th>\n",
       "      <th>item_name</th>\n",
       "      <th>quantity</th>\n",
       "      <th>date</th>\n",
       "      <th>price</th>\n",
       "      <th>customer_id</th>\n",
       "      <th>country</th>\n",
       "      <th>produto_id</th>\n",
       "    </tr>\n",
       "  </thead>\n",
       "  <tbody>\n",
       "    <tr>\n",
       "      <th>0</th>\n",
       "      <td>536365</td>\n",
       "      <td>WHITE HANGING HEART T-LIGHT HOLDER</td>\n",
       "      <td>6</td>\n",
       "      <td>2010-12-01 08:26:00</td>\n",
       "      <td>2.55</td>\n",
       "      <td>17850.0</td>\n",
       "      <td>United Kingdom</td>\n",
       "      <td>0</td>\n",
       "    </tr>\n",
       "    <tr>\n",
       "      <th>1</th>\n",
       "      <td>536365</td>\n",
       "      <td>WHITE METAL LANTERN</td>\n",
       "      <td>6</td>\n",
       "      <td>2010-12-01 08:26:00</td>\n",
       "      <td>3.39</td>\n",
       "      <td>17850.0</td>\n",
       "      <td>United Kingdom</td>\n",
       "      <td>1</td>\n",
       "    </tr>\n",
       "    <tr>\n",
       "      <th>2</th>\n",
       "      <td>536365</td>\n",
       "      <td>CREAM CUPID HEARTS COAT HANGER</td>\n",
       "      <td>8</td>\n",
       "      <td>2010-12-01 08:26:00</td>\n",
       "      <td>2.75</td>\n",
       "      <td>17850.0</td>\n",
       "      <td>United Kingdom</td>\n",
       "      <td>2</td>\n",
       "    </tr>\n",
       "    <tr>\n",
       "      <th>3</th>\n",
       "      <td>536365</td>\n",
       "      <td>KNITTED UNION FLAG HOT WATER BOTTLE</td>\n",
       "      <td>6</td>\n",
       "      <td>2010-12-01 08:26:00</td>\n",
       "      <td>3.39</td>\n",
       "      <td>17850.0</td>\n",
       "      <td>United Kingdom</td>\n",
       "      <td>3</td>\n",
       "    </tr>\n",
       "    <tr>\n",
       "      <th>4</th>\n",
       "      <td>536365</td>\n",
       "      <td>RED WOOLLY HOTTIE WHITE HEART.</td>\n",
       "      <td>6</td>\n",
       "      <td>2010-12-01 08:26:00</td>\n",
       "      <td>3.39</td>\n",
       "      <td>17850.0</td>\n",
       "      <td>United Kingdom</td>\n",
       "      <td>4</td>\n",
       "    </tr>\n",
       "  </tbody>\n",
       "</table>\n",
       "</div>"
      ],
      "text/plain": [
       "  bill_no                            item_name  quantity                date  \\\n",
       "0  536365   WHITE HANGING HEART T-LIGHT HOLDER         6 2010-12-01 08:26:00   \n",
       "1  536365                  WHITE METAL LANTERN         6 2010-12-01 08:26:00   \n",
       "2  536365       CREAM CUPID HEARTS COAT HANGER         8 2010-12-01 08:26:00   \n",
       "3  536365  KNITTED UNION FLAG HOT WATER BOTTLE         6 2010-12-01 08:26:00   \n",
       "4  536365       RED WOOLLY HOTTIE WHITE HEART.         6 2010-12-01 08:26:00   \n",
       "\n",
       "   price  customer_id         country  produto_id  \n",
       "0   2.55      17850.0  United Kingdom           0  \n",
       "1   3.39      17850.0  United Kingdom           1  \n",
       "2   2.75      17850.0  United Kingdom           2  \n",
       "3   3.39      17850.0  United Kingdom           3  \n",
       "4   3.39      17850.0  United Kingdom           4  "
      ]
     },
     "execution_count": 5,
     "metadata": {},
     "output_type": "execute_result"
    }
   ],
   "source": [
    "df1 = data_preparation( df1 )\n",
    "df1.head()"
   ]
  },
  {
   "cell_type": "markdown",
   "id": "86bfeced",
   "metadata": {},
   "source": [
    "**Coluna produto_id foi adicionada no dataset**"
   ]
  },
  {
   "cell_type": "markdown",
   "id": "0b4e686b",
   "metadata": {},
   "source": [
    "# 3.0 Filtragem Country"
   ]
  },
  {
   "cell_type": "code",
   "execution_count": 6,
   "id": "3fa2e5d9",
   "metadata": {
    "ExecuteTime": {
     "end_time": "2022-07-16T10:34:56.162037Z",
     "start_time": "2022-07-16T10:34:56.159472Z"
    }
   },
   "outputs": [],
   "source": [
    "def data_filter( dataframe, country=False, Country=\"\"):\n",
    "    if country:\n",
    "        dataframe = dataframe[dataframe[\"country\"] == Country]\n",
    "    return dataframe"
   ]
  },
  {
   "cell_type": "code",
   "execution_count": 7,
   "id": "21a120e7",
   "metadata": {
    "ExecuteTime": {
     "end_time": "2022-07-16T10:34:56.597449Z",
     "start_time": "2022-07-16T10:34:56.555775Z"
    }
   },
   "outputs": [
    {
     "data": {
      "text/html": [
       "<div>\n",
       "<style scoped>\n",
       "    .dataframe tbody tr th:only-of-type {\n",
       "        vertical-align: middle;\n",
       "    }\n",
       "\n",
       "    .dataframe tbody tr th {\n",
       "        vertical-align: top;\n",
       "    }\n",
       "\n",
       "    .dataframe thead th {\n",
       "        text-align: right;\n",
       "    }\n",
       "</style>\n",
       "<table border=\"1\" class=\"dataframe\">\n",
       "  <thead>\n",
       "    <tr style=\"text-align: right;\">\n",
       "      <th></th>\n",
       "      <th>bill_no</th>\n",
       "      <th>item_name</th>\n",
       "      <th>quantity</th>\n",
       "      <th>date</th>\n",
       "      <th>price</th>\n",
       "      <th>customer_id</th>\n",
       "      <th>country</th>\n",
       "      <th>produto_id</th>\n",
       "    </tr>\n",
       "  </thead>\n",
       "  <tbody>\n",
       "    <tr>\n",
       "      <th>26</th>\n",
       "      <td>536370</td>\n",
       "      <td>ALARM CLOCK BAKELIKE PINK</td>\n",
       "      <td>24</td>\n",
       "      <td>2010-12-01 08:45:00</td>\n",
       "      <td>3.75</td>\n",
       "      <td>12583.0</td>\n",
       "      <td>France</td>\n",
       "      <td>26</td>\n",
       "    </tr>\n",
       "    <tr>\n",
       "      <th>27</th>\n",
       "      <td>536370</td>\n",
       "      <td>ALARM CLOCK BAKELIKE RED</td>\n",
       "      <td>24</td>\n",
       "      <td>2010-12-01 08:45:00</td>\n",
       "      <td>3.75</td>\n",
       "      <td>12583.0</td>\n",
       "      <td>France</td>\n",
       "      <td>27</td>\n",
       "    </tr>\n",
       "    <tr>\n",
       "      <th>28</th>\n",
       "      <td>536370</td>\n",
       "      <td>ALARM CLOCK BAKELIKE GREEN</td>\n",
       "      <td>12</td>\n",
       "      <td>2010-12-01 08:45:00</td>\n",
       "      <td>3.75</td>\n",
       "      <td>12583.0</td>\n",
       "      <td>France</td>\n",
       "      <td>28</td>\n",
       "    </tr>\n",
       "    <tr>\n",
       "      <th>29</th>\n",
       "      <td>536370</td>\n",
       "      <td>PANDA AND BUNNIES STICKER SHEET</td>\n",
       "      <td>12</td>\n",
       "      <td>2010-12-01 08:45:00</td>\n",
       "      <td>0.85</td>\n",
       "      <td>12583.0</td>\n",
       "      <td>France</td>\n",
       "      <td>29</td>\n",
       "    </tr>\n",
       "    <tr>\n",
       "      <th>30</th>\n",
       "      <td>536370</td>\n",
       "      <td>STARS GIFT TAPE</td>\n",
       "      <td>24</td>\n",
       "      <td>2010-12-01 08:45:00</td>\n",
       "      <td>0.65</td>\n",
       "      <td>12583.0</td>\n",
       "      <td>France</td>\n",
       "      <td>30</td>\n",
       "    </tr>\n",
       "  </tbody>\n",
       "</table>\n",
       "</div>"
      ],
      "text/plain": [
       "   bill_no                        item_name  quantity                date  \\\n",
       "26  536370        ALARM CLOCK BAKELIKE PINK        24 2010-12-01 08:45:00   \n",
       "27  536370         ALARM CLOCK BAKELIKE RED        24 2010-12-01 08:45:00   \n",
       "28  536370       ALARM CLOCK BAKELIKE GREEN        12 2010-12-01 08:45:00   \n",
       "29  536370  PANDA AND BUNNIES STICKER SHEET        12 2010-12-01 08:45:00   \n",
       "30  536370                  STARS GIFT TAPE        24 2010-12-01 08:45:00   \n",
       "\n",
       "    price  customer_id country  produto_id  \n",
       "26   3.75      12583.0  France          26  \n",
       "27   3.75      12583.0  France          27  \n",
       "28   3.75      12583.0  France          28  \n",
       "29   0.85      12583.0  France          29  \n",
       "30   0.65      12583.0  France          30  "
      ]
     },
     "execution_count": 7,
     "metadata": {},
     "output_type": "execute_result"
    }
   ],
   "source": [
    "df_country = data_filter( df1, True, 'France' )\n",
    "df_country.head()"
   ]
  },
  {
   "cell_type": "markdown",
   "id": "bfd569c1",
   "metadata": {},
   "source": [
    "**Vamos lidar com os dados de vendas da France como exemplo** "
   ]
  },
  {
   "cell_type": "markdown",
   "id": "91cfbcff",
   "metadata": {},
   "source": [
    "# 4.0 Preparando a Matriz Compra-Produto"
   ]
  },
  {
   "cell_type": "code",
   "execution_count": 8,
   "id": "16b59ace",
   "metadata": {
    "ExecuteTime": {
     "end_time": "2022-07-16T10:35:00.396400Z",
     "start_time": "2022-07-16T10:35:00.393612Z"
    }
   },
   "outputs": [],
   "source": [
    "def create_purchase_product( dataframe, id=False ):\n",
    "    if id:\n",
    "        return dataframe.groupby(['bill_no', 'produto_id'])['quantity'].sum().unstack().fillna(0). \\\n",
    "            applymap(lambda x: 1 if x > 0 else 0)\n",
    "    else:\n",
    "        return dataframe.groupby(['bill_no', 'item_name'])['quantity'].sum().unstack().fillna(0). \\\n",
    "            applymap(lambda x: 1 if x > 0 else 0)"
   ]
  },
  {
   "cell_type": "code",
   "execution_count": 35,
   "id": "76e7a6a7",
   "metadata": {
    "ExecuteTime": {
     "end_time": "2022-07-16T11:38:42.174953Z",
     "start_time": "2022-07-16T11:38:41.871506Z"
    },
    "scrolled": true
   },
   "outputs": [
    {
     "data": {
      "text/html": [
       "<div>\n",
       "<style scoped>\n",
       "    .dataframe tbody tr th:only-of-type {\n",
       "        vertical-align: middle;\n",
       "    }\n",
       "\n",
       "    .dataframe tbody tr th {\n",
       "        vertical-align: top;\n",
       "    }\n",
       "\n",
       "    .dataframe thead th {\n",
       "        text-align: right;\n",
       "    }\n",
       "</style>\n",
       "<table border=\"1\" class=\"dataframe\">\n",
       "  <thead>\n",
       "    <tr style=\"text-align: right;\">\n",
       "      <th>produto_id</th>\n",
       "      <th>0</th>\n",
       "      <th>3</th>\n",
       "      <th>4</th>\n",
       "      <th>5</th>\n",
       "      <th>7</th>\n",
       "      <th>9</th>\n",
       "      <th>10</th>\n",
       "      <th>11</th>\n",
       "      <th>12</th>\n",
       "      <th>15</th>\n",
       "      <th>...</th>\n",
       "      <th>3781</th>\n",
       "      <th>3782</th>\n",
       "      <th>3784</th>\n",
       "      <th>3785</th>\n",
       "      <th>3786</th>\n",
       "      <th>3816</th>\n",
       "      <th>3817</th>\n",
       "      <th>3818</th>\n",
       "      <th>3820</th>\n",
       "      <th>3821</th>\n",
       "    </tr>\n",
       "    <tr>\n",
       "      <th>bill_no</th>\n",
       "      <th></th>\n",
       "      <th></th>\n",
       "      <th></th>\n",
       "      <th></th>\n",
       "      <th></th>\n",
       "      <th></th>\n",
       "      <th></th>\n",
       "      <th></th>\n",
       "      <th></th>\n",
       "      <th></th>\n",
       "      <th></th>\n",
       "      <th></th>\n",
       "      <th></th>\n",
       "      <th></th>\n",
       "      <th></th>\n",
       "      <th></th>\n",
       "      <th></th>\n",
       "      <th></th>\n",
       "      <th></th>\n",
       "      <th></th>\n",
       "      <th></th>\n",
       "    </tr>\n",
       "  </thead>\n",
       "  <tbody>\n",
       "    <tr>\n",
       "      <th>536370</th>\n",
       "      <td>0</td>\n",
       "      <td>0</td>\n",
       "      <td>0</td>\n",
       "      <td>0</td>\n",
       "      <td>0</td>\n",
       "      <td>0</td>\n",
       "      <td>0</td>\n",
       "      <td>0</td>\n",
       "      <td>0</td>\n",
       "      <td>0</td>\n",
       "      <td>...</td>\n",
       "      <td>0</td>\n",
       "      <td>0</td>\n",
       "      <td>0</td>\n",
       "      <td>0</td>\n",
       "      <td>0</td>\n",
       "      <td>0</td>\n",
       "      <td>0</td>\n",
       "      <td>0</td>\n",
       "      <td>0</td>\n",
       "      <td>0</td>\n",
       "    </tr>\n",
       "    <tr>\n",
       "      <th>536852</th>\n",
       "      <td>0</td>\n",
       "      <td>0</td>\n",
       "      <td>0</td>\n",
       "      <td>0</td>\n",
       "      <td>0</td>\n",
       "      <td>0</td>\n",
       "      <td>0</td>\n",
       "      <td>0</td>\n",
       "      <td>0</td>\n",
       "      <td>0</td>\n",
       "      <td>...</td>\n",
       "      <td>0</td>\n",
       "      <td>0</td>\n",
       "      <td>0</td>\n",
       "      <td>0</td>\n",
       "      <td>0</td>\n",
       "      <td>0</td>\n",
       "      <td>0</td>\n",
       "      <td>0</td>\n",
       "      <td>0</td>\n",
       "      <td>0</td>\n",
       "    </tr>\n",
       "    <tr>\n",
       "      <th>536974</th>\n",
       "      <td>0</td>\n",
       "      <td>0</td>\n",
       "      <td>0</td>\n",
       "      <td>0</td>\n",
       "      <td>0</td>\n",
       "      <td>0</td>\n",
       "      <td>0</td>\n",
       "      <td>1</td>\n",
       "      <td>0</td>\n",
       "      <td>0</td>\n",
       "      <td>...</td>\n",
       "      <td>0</td>\n",
       "      <td>0</td>\n",
       "      <td>0</td>\n",
       "      <td>0</td>\n",
       "      <td>0</td>\n",
       "      <td>0</td>\n",
       "      <td>0</td>\n",
       "      <td>0</td>\n",
       "      <td>0</td>\n",
       "      <td>0</td>\n",
       "    </tr>\n",
       "    <tr>\n",
       "      <th>537065</th>\n",
       "      <td>0</td>\n",
       "      <td>0</td>\n",
       "      <td>0</td>\n",
       "      <td>0</td>\n",
       "      <td>0</td>\n",
       "      <td>0</td>\n",
       "      <td>0</td>\n",
       "      <td>0</td>\n",
       "      <td>0</td>\n",
       "      <td>0</td>\n",
       "      <td>...</td>\n",
       "      <td>0</td>\n",
       "      <td>0</td>\n",
       "      <td>0</td>\n",
       "      <td>0</td>\n",
       "      <td>0</td>\n",
       "      <td>0</td>\n",
       "      <td>0</td>\n",
       "      <td>0</td>\n",
       "      <td>0</td>\n",
       "      <td>0</td>\n",
       "    </tr>\n",
       "    <tr>\n",
       "      <th>537463</th>\n",
       "      <td>0</td>\n",
       "      <td>0</td>\n",
       "      <td>0</td>\n",
       "      <td>0</td>\n",
       "      <td>0</td>\n",
       "      <td>0</td>\n",
       "      <td>0</td>\n",
       "      <td>0</td>\n",
       "      <td>0</td>\n",
       "      <td>0</td>\n",
       "      <td>...</td>\n",
       "      <td>0</td>\n",
       "      <td>0</td>\n",
       "      <td>0</td>\n",
       "      <td>0</td>\n",
       "      <td>0</td>\n",
       "      <td>0</td>\n",
       "      <td>0</td>\n",
       "      <td>0</td>\n",
       "      <td>0</td>\n",
       "      <td>0</td>\n",
       "    </tr>\n",
       "  </tbody>\n",
       "</table>\n",
       "<p>5 rows × 1539 columns</p>\n",
       "</div>"
      ],
      "text/plain": [
       "produto_id  0     3     4     5     7     9     10    11    12    15    ...  \\\n",
       "bill_no                                                                 ...   \n",
       "536370         0     0     0     0     0     0     0     0     0     0  ...   \n",
       "536852         0     0     0     0     0     0     0     0     0     0  ...   \n",
       "536974         0     0     0     0     0     0     0     1     0     0  ...   \n",
       "537065         0     0     0     0     0     0     0     0     0     0  ...   \n",
       "537463         0     0     0     0     0     0     0     0     0     0  ...   \n",
       "\n",
       "produto_id  3781  3782  3784  3785  3786  3816  3817  3818  3820  3821  \n",
       "bill_no                                                                 \n",
       "536370         0     0     0     0     0     0     0     0     0     0  \n",
       "536852         0     0     0     0     0     0     0     0     0     0  \n",
       "536974         0     0     0     0     0     0     0     0     0     0  \n",
       "537065         0     0     0     0     0     0     0     0     0     0  \n",
       "537463         0     0     0     0     0     0     0     0     0     0  \n",
       "\n",
       "[5 rows x 1539 columns]"
      ]
     },
     "execution_count": 35,
     "metadata": {},
     "output_type": "execute_result"
    }
   ],
   "source": [
    "purchase_product = create_purchase_product( df_country, id=True)\n",
    "purchase_product.head()"
   ]
  },
  {
   "cell_type": "markdown",
   "id": "743253c0",
   "metadata": {},
   "source": [
    "**Coluna produto_id foi criada para realizar a contrução dessa Matriz, associar compras por codigo do produto**"
   ]
  },
  {
   "cell_type": "markdown",
   "id": "2457601e",
   "metadata": {},
   "source": [
    "## 4.1 Check prouto_id"
   ]
  },
  {
   "cell_type": "code",
   "execution_count": 37,
   "id": "c09dd433",
   "metadata": {
    "ExecuteTime": {
     "end_time": "2022-07-16T11:38:54.002163Z",
     "start_time": "2022-07-16T11:38:53.999870Z"
    }
   },
   "outputs": [],
   "source": [
    "def check_produto_id( dataframe, produto_id ): \n",
    "    item_name = dataframe[ dataframe[\"produto_id\"] == produto_id][\"item_name\"].unique()[0] \n",
    "    return produto_id, item_name "
   ]
  },
  {
   "cell_type": "code",
   "execution_count": 38,
   "id": "cca49ac1",
   "metadata": {
    "ExecuteTime": {
     "end_time": "2022-07-16T11:38:55.764550Z",
     "start_time": "2022-07-16T11:38:55.760068Z"
    }
   },
   "outputs": [
    {
     "data": {
      "text/plain": [
       "(34, 'ROUND SNACK BOXES SET OF4 WOODLAND')"
      ]
     },
     "execution_count": 38,
     "metadata": {},
     "output_type": "execute_result"
    }
   ],
   "source": [
    "check_produto_id( df_country, 34 )"
   ]
  },
  {
   "cell_type": "code",
   "execution_count": 39,
   "id": "03b764ae",
   "metadata": {
    "ExecuteTime": {
     "end_time": "2022-07-16T11:38:56.003619Z",
     "start_time": "2022-07-16T11:38:56.000008Z"
    }
   },
   "outputs": [
    {
     "data": {
      "text/plain": [
       "(244, 'SET OF 6 T-LIGHTS SANTA')"
      ]
     },
     "execution_count": 39,
     "metadata": {},
     "output_type": "execute_result"
    }
   ],
   "source": [
    "check_produto_id( df_country, 244 )"
   ]
  },
  {
   "cell_type": "markdown",
   "id": "f673a040",
   "metadata": {},
   "source": [
    "**Função para encontrar o produto através do código ID**"
   ]
  },
  {
   "cell_type": "markdown",
   "id": "f5032488",
   "metadata": {},
   "source": [
    "# 5.0 Geração de regras de associação a partir de itens frequentes"
   ]
  },
  {
   "cell_type": "markdown",
   "id": "50fe8234",
   "metadata": {},
   "source": [
    "**Vamos retornar os itens e conjuntos de itens com pelo menos 60% de suporte**"
   ]
  },
  {
   "cell_type": "code",
   "execution_count": 64,
   "id": "44e0910e",
   "metadata": {
    "ExecuteTime": {
     "end_time": "2022-07-16T11:51:08.987305Z",
     "start_time": "2022-07-16T11:51:08.966018Z"
    }
   },
   "outputs": [
    {
     "name": "stderr",
     "output_type": "stream",
     "text": [
      "/opt/anaconda/envs/manfing/lib/python3.9/site-packages/mlxtend/frequent_patterns/fpcommon.py:111: DeprecationWarning: DataFrames with non-bool types result in worse computationalperformance and their support might be discontinued in the future.Please use a DataFrame with bool type\n",
      "  warnings.warn(\n"
     ]
    },
    {
     "data": {
      "text/html": [
       "<div>\n",
       "<style scoped>\n",
       "    .dataframe tbody tr th:only-of-type {\n",
       "        vertical-align: middle;\n",
       "    }\n",
       "\n",
       "    .dataframe tbody tr th {\n",
       "        vertical-align: top;\n",
       "    }\n",
       "\n",
       "    .dataframe thead th {\n",
       "        text-align: right;\n",
       "    }\n",
       "</style>\n",
       "<table border=\"1\" class=\"dataframe\">\n",
       "  <thead>\n",
       "    <tr style=\"text-align: right;\">\n",
       "      <th></th>\n",
       "      <th>support</th>\n",
       "      <th>itemsets</th>\n",
       "      <th>length</th>\n",
       "    </tr>\n",
       "  </thead>\n",
       "  <tbody>\n",
       "    <tr>\n",
       "      <th>65</th>\n",
       "      <td>0.067708</td>\n",
       "      <td>(65, 258)</td>\n",
       "      <td>2</td>\n",
       "    </tr>\n",
       "    <tr>\n",
       "      <th>26</th>\n",
       "      <td>0.072917</td>\n",
       "      <td>(319)</td>\n",
       "      <td>1</td>\n",
       "    </tr>\n",
       "    <tr>\n",
       "      <th>36</th>\n",
       "      <td>0.070312</td>\n",
       "      <td>(549)</td>\n",
       "      <td>1</td>\n",
       "    </tr>\n",
       "    <tr>\n",
       "      <th>12</th>\n",
       "      <td>0.156250</td>\n",
       "      <td>(65)</td>\n",
       "      <td>1</td>\n",
       "    </tr>\n",
       "    <tr>\n",
       "      <th>75</th>\n",
       "      <td>0.065104</td>\n",
       "      <td>(26, 27, 28)</td>\n",
       "      <td>3</td>\n",
       "    </tr>\n",
       "    <tr>\n",
       "      <th>10</th>\n",
       "      <td>0.106771</td>\n",
       "      <td>(44)</td>\n",
       "      <td>1</td>\n",
       "    </tr>\n",
       "    <tr>\n",
       "      <th>72</th>\n",
       "      <td>0.091146</td>\n",
       "      <td>(685, 422)</td>\n",
       "      <td>2</td>\n",
       "    </tr>\n",
       "    <tr>\n",
       "      <th>74</th>\n",
       "      <td>0.065104</td>\n",
       "      <td>(2902, 2903)</td>\n",
       "      <td>2</td>\n",
       "    </tr>\n",
       "    <tr>\n",
       "      <th>40</th>\n",
       "      <td>0.070312</td>\n",
       "      <td>(920)</td>\n",
       "      <td>1</td>\n",
       "    </tr>\n",
       "    <tr>\n",
       "      <th>14</th>\n",
       "      <td>0.145833</td>\n",
       "      <td>(67)</td>\n",
       "      <td>1</td>\n",
       "    </tr>\n",
       "  </tbody>\n",
       "</table>\n",
       "</div>"
      ],
      "text/plain": [
       "     support      itemsets  length\n",
       "65  0.067708     (65, 258)       2\n",
       "26  0.072917         (319)       1\n",
       "36  0.070312         (549)       1\n",
       "12  0.156250          (65)       1\n",
       "75  0.065104  (26, 27, 28)       3\n",
       "10  0.106771          (44)       1\n",
       "72  0.091146    (685, 422)       2\n",
       "74  0.065104  (2902, 2903)       2\n",
       "40  0.070312         (920)       1\n",
       "14  0.145833          (67)       1"
      ]
     },
     "execution_count": 64,
     "metadata": {},
     "output_type": "execute_result"
    }
   ],
   "source": [
    "frequent_itemsets = apriori( purchase_product, min_support=0.06, use_colnames=True )\n",
    "frequent_itemsets['length'] = frequent_itemsets['itemsets'].apply(lambda x: len(x))\n",
    "frequent_itemsets.sort_values('support', ascending=False ).sample(10)"
   ]
  },
  {
   "cell_type": "markdown",
   "id": "4ab8504f",
   "metadata": {},
   "source": [
    " **support:** Indica com que frequência o conjunto de itens ocorre no conjunto de dados"
   ]
  },
  {
   "cell_type": "code",
   "execution_count": 41,
   "id": "59619ba2",
   "metadata": {
    "ExecuteTime": {
     "end_time": "2022-07-16T11:39:01.822105Z",
     "start_time": "2022-07-16T11:39:01.806480Z"
    }
   },
   "outputs": [
    {
     "data": {
      "text/html": [
       "<div>\n",
       "<style scoped>\n",
       "    .dataframe tbody tr th:only-of-type {\n",
       "        vertical-align: middle;\n",
       "    }\n",
       "\n",
       "    .dataframe tbody tr th {\n",
       "        vertical-align: top;\n",
       "    }\n",
       "\n",
       "    .dataframe thead th {\n",
       "        text-align: right;\n",
       "    }\n",
       "</style>\n",
       "<table border=\"1\" class=\"dataframe\">\n",
       "  <thead>\n",
       "    <tr style=\"text-align: right;\">\n",
       "      <th></th>\n",
       "      <th>antecedents</th>\n",
       "      <th>consequents</th>\n",
       "      <th>antecedent support</th>\n",
       "      <th>consequent support</th>\n",
       "      <th>support</th>\n",
       "      <th>confidence</th>\n",
       "      <th>lift</th>\n",
       "      <th>leverage</th>\n",
       "      <th>conviction</th>\n",
       "    </tr>\n",
       "  </thead>\n",
       "  <tbody>\n",
       "    <tr>\n",
       "      <th>13</th>\n",
       "      <td>(171)</td>\n",
       "      <td>(64)</td>\n",
       "      <td>0.140625</td>\n",
       "      <td>0.130208</td>\n",
       "      <td>0.125000</td>\n",
       "      <td>0.888889</td>\n",
       "      <td>6.826667</td>\n",
       "      <td>0.106689</td>\n",
       "      <td>7.828125</td>\n",
       "    </tr>\n",
       "    <tr>\n",
       "      <th>12</th>\n",
       "      <td>(64)</td>\n",
       "      <td>(171)</td>\n",
       "      <td>0.130208</td>\n",
       "      <td>0.140625</td>\n",
       "      <td>0.125000</td>\n",
       "      <td>0.960000</td>\n",
       "      <td>6.826667</td>\n",
       "      <td>0.106689</td>\n",
       "      <td>21.484375</td>\n",
       "    </tr>\n",
       "    <tr>\n",
       "      <th>26</th>\n",
       "      <td>(422)</td>\n",
       "      <td>(423)</td>\n",
       "      <td>0.138021</td>\n",
       "      <td>0.174479</td>\n",
       "      <td>0.106771</td>\n",
       "      <td>0.773585</td>\n",
       "      <td>4.433681</td>\n",
       "      <td>0.082689</td>\n",
       "      <td>3.646050</td>\n",
       "    </tr>\n",
       "    <tr>\n",
       "      <th>27</th>\n",
       "      <td>(423)</td>\n",
       "      <td>(422)</td>\n",
       "      <td>0.174479</td>\n",
       "      <td>0.138021</td>\n",
       "      <td>0.106771</td>\n",
       "      <td>0.611940</td>\n",
       "      <td>4.433681</td>\n",
       "      <td>0.082689</td>\n",
       "      <td>2.221254</td>\n",
       "    </tr>\n",
       "    <tr>\n",
       "      <th>21</th>\n",
       "      <td>(171)</td>\n",
       "      <td>(170)</td>\n",
       "      <td>0.140625</td>\n",
       "      <td>0.135417</td>\n",
       "      <td>0.104167</td>\n",
       "      <td>0.740741</td>\n",
       "      <td>5.470085</td>\n",
       "      <td>0.085124</td>\n",
       "      <td>3.334821</td>\n",
       "    </tr>\n",
       "    <tr>\n",
       "      <th>30</th>\n",
       "      <td>(685)</td>\n",
       "      <td>(423)</td>\n",
       "      <td>0.171875</td>\n",
       "      <td>0.174479</td>\n",
       "      <td>0.104167</td>\n",
       "      <td>0.606061</td>\n",
       "      <td>3.473541</td>\n",
       "      <td>0.074178</td>\n",
       "      <td>2.095553</td>\n",
       "    </tr>\n",
       "    <tr>\n",
       "      <th>31</th>\n",
       "      <td>(423)</td>\n",
       "      <td>(685)</td>\n",
       "      <td>0.174479</td>\n",
       "      <td>0.171875</td>\n",
       "      <td>0.104167</td>\n",
       "      <td>0.597015</td>\n",
       "      <td>3.473541</td>\n",
       "      <td>0.074178</td>\n",
       "      <td>2.054977</td>\n",
       "    </tr>\n",
       "    <tr>\n",
       "      <th>11</th>\n",
       "      <td>(170)</td>\n",
       "      <td>(64)</td>\n",
       "      <td>0.135417</td>\n",
       "      <td>0.130208</td>\n",
       "      <td>0.104167</td>\n",
       "      <td>0.769231</td>\n",
       "      <td>5.907692</td>\n",
       "      <td>0.086534</td>\n",
       "      <td>3.769097</td>\n",
       "    </tr>\n",
       "    <tr>\n",
       "      <th>10</th>\n",
       "      <td>(64)</td>\n",
       "      <td>(170)</td>\n",
       "      <td>0.130208</td>\n",
       "      <td>0.135417</td>\n",
       "      <td>0.104167</td>\n",
       "      <td>0.800000</td>\n",
       "      <td>5.907692</td>\n",
       "      <td>0.086534</td>\n",
       "      <td>4.322917</td>\n",
       "    </tr>\n",
       "    <tr>\n",
       "      <th>20</th>\n",
       "      <td>(170)</td>\n",
       "      <td>(171)</td>\n",
       "      <td>0.135417</td>\n",
       "      <td>0.140625</td>\n",
       "      <td>0.104167</td>\n",
       "      <td>0.769231</td>\n",
       "      <td>5.470085</td>\n",
       "      <td>0.085124</td>\n",
       "      <td>3.723958</td>\n",
       "    </tr>\n",
       "  </tbody>\n",
       "</table>\n",
       "</div>"
      ],
      "text/plain": [
       "   antecedents consequents  antecedent support  consequent support   support  \\\n",
       "13       (171)        (64)            0.140625            0.130208  0.125000   \n",
       "12        (64)       (171)            0.130208            0.140625  0.125000   \n",
       "26       (422)       (423)            0.138021            0.174479  0.106771   \n",
       "27       (423)       (422)            0.174479            0.138021  0.106771   \n",
       "21       (171)       (170)            0.140625            0.135417  0.104167   \n",
       "30       (685)       (423)            0.171875            0.174479  0.104167   \n",
       "31       (423)       (685)            0.174479            0.171875  0.104167   \n",
       "11       (170)        (64)            0.135417            0.130208  0.104167   \n",
       "10        (64)       (170)            0.130208            0.135417  0.104167   \n",
       "20       (170)       (171)            0.135417            0.140625  0.104167   \n",
       "\n",
       "    confidence      lift  leverage  conviction  \n",
       "13    0.888889  6.826667  0.106689    7.828125  \n",
       "12    0.960000  6.826667  0.106689   21.484375  \n",
       "26    0.773585  4.433681  0.082689    3.646050  \n",
       "27    0.611940  4.433681  0.082689    2.221254  \n",
       "21    0.740741  5.470085  0.085124    3.334821  \n",
       "30    0.606061  3.473541  0.074178    2.095553  \n",
       "31    0.597015  3.473541  0.074178    2.054977  \n",
       "11    0.769231  5.907692  0.086534    3.769097  \n",
       "10    0.800000  5.907692  0.086534    4.322917  \n",
       "20    0.769231  5.470085  0.085124    3.723958  "
      ]
     },
     "execution_count": 41,
     "metadata": {},
     "output_type": "execute_result"
    }
   ],
   "source": [
    "asso_rules = association_rules( frequent_itemsets, metric=\"lift\", min_threshold=0.7 )\n",
    "asso_rules.sort_values( 'support', ascending=False ).head(10)"
   ]
  },
  {
   "cell_type": "markdown",
   "id": "a43ea5dc",
   "metadata": {},
   "source": [
    "### Métricas que vemos na tabela acima:\n",
    "\n"
   ]
  },
  {
   "cell_type": "markdown",
   "id": "d2e741e5",
   "metadata": {},
   "source": [
    "   **Antecedents:** Se X é chamado de antecedente, 'suporte antecedente' calcula a proporção de transações que contêm o antecedente X.\n",
    "   \n",
    "   **Consequents:** se Y for chamado de conseqüente, 'suporte conseqüente' calcula a proporção de transações que contêm o antecedente Y.\n",
    "   \n",
    "   **Confidence:** indicando % dos clientes que compram produto X também compram Y ao mesmo tempo. \n",
    "   \n",
    "   **Lift:** Quanto maior lift, mais forte é a associação entre o antecedente e o consequente. \n",
    "    \n",
    "   **Conviction:** Razão da frequência esperada que X ocorre sem Y. uma alta convicção significa que o consequente é altamente dependente do antecedente."
   ]
  },
  {
   "cell_type": "code",
   "execution_count": 35,
   "id": "c8493670",
   "metadata": {
    "ExecuteTime": {
     "end_time": "2022-07-16T03:09:06.041944Z",
     "start_time": "2022-07-16T03:09:06.039490Z"
    }
   },
   "outputs": [
    {
     "name": "stdout",
     "output_type": "stream",
     "text": [
      "Total de associação encontrado: 52\n"
     ]
    }
   ],
   "source": [
    "print( f'Total de associação encontrado: {len(asso_rules)}') "
   ]
  },
  {
   "cell_type": "markdown",
   "id": "16face08",
   "metadata": {},
   "source": [
    "# 6.0 Recommendation Product Customer"
   ]
  },
  {
   "cell_type": "code",
   "execution_count": 36,
   "id": "b7fa76bd",
   "metadata": {
    "ExecuteTime": {
     "end_time": "2022-07-16T03:09:09.402142Z",
     "start_time": "2022-07-16T03:09:09.399668Z"
    }
   },
   "outputs": [],
   "source": [
    "sorted_rules = asso_rules.sort_values( \"lift\", ascending=False )"
   ]
  },
  {
   "cell_type": "code",
   "execution_count": 37,
   "id": "aeace4c8",
   "metadata": {
    "ExecuteTime": {
     "end_time": "2022-07-16T03:09:09.801828Z",
     "start_time": "2022-07-16T03:09:09.793675Z"
    }
   },
   "outputs": [
    {
     "data": {
      "text/plain": [
       "(170, 'SET/20 RED RETROSPOT PAPER NAPKINS')"
      ]
     },
     "execution_count": 37,
     "metadata": {},
     "output_type": "execute_result"
    }
   ],
   "source": [
    "produto_id = 170\n",
    "\n",
    "check_produto_id( df_country, produto_id )"
   ]
  },
  {
   "cell_type": "code",
   "execution_count": 38,
   "id": "254ae9fe",
   "metadata": {
    "ExecuteTime": {
     "end_time": "2022-07-16T03:09:10.230290Z",
     "start_time": "2022-07-16T03:09:10.224822Z"
    }
   },
   "outputs": [
    {
     "name": "stdout",
     "output_type": "stream",
     "text": [
      "(64, 'SET/6 RED SPOTTY PAPER PLATES')\n",
      "(171, 'SET/6 RED SPOTTY PAPER CUPS')\n"
     ]
    }
   ],
   "source": [
    "product_id = 170\n",
    "recommendation_list = []\n",
    "\n",
    "for idx, product in enumerate( sorted_rules[\"antecedents\"] ):\n",
    "    # antecendent tuple\n",
    "    for i in list( product ):\n",
    "        if i == product_id:\n",
    "            # indexi ne ise (idx) consequentte\n",
    "            recommendation_list.append( list( sorted_rules.iloc[idx][\"consequents\"] )[0] )\n",
    "            recommendation_list = list( dict.fromkeys( recommendation_list ) )\n",
    "            \n",
    "            \n",
    "list_top5 = recommendation_list[0:5]\n",
    "list_top5          \n",
    "\n",
    "for elem in list_top5:\n",
    "    print( check_produto_id( df_country, elem ))  "
   ]
  },
  {
   "cell_type": "markdown",
   "id": "ed4ab1b5",
   "metadata": {},
   "source": [
    "# 7.0  Function Recomendation System "
   ]
  },
  {
   "cell_type": "code",
   "execution_count": 103,
   "id": "e00e6a3b",
   "metadata": {
    "ExecuteTime": {
     "end_time": "2022-07-16T12:15:35.584460Z",
     "start_time": "2022-07-16T12:15:35.575049Z"
    }
   },
   "outputs": [],
   "source": [
    "# ================ Data Preparation ================\n",
    "def data_preparation( dataframe ):\n",
    "    # Rename Columns  \n",
    "    cols_old = ['BillNo', 'ItemName', 'Quantity', 'Date', 'Price', 'CustomerID', 'Country']\n",
    "\n",
    "    snakecase = lambda x: inflection.underscore( x )\n",
    "    cols_news = list( map( snakecase, cols_old ) )\n",
    "\n",
    "    # Rename\n",
    "    dataframe.columns = cols_news\n",
    "    \n",
    "    # Drop NA\n",
    "    dataframe = dataframe.dropna( subset=['item_name','customer_id'] )\n",
    "      \n",
    "    #feature_engineering\n",
    "    dataframe = dataframe.loc[dataframe['price'] >= 0.04,:]\n",
    "\n",
    "    dataframe = dataframe[~dataframe[\"item_name\"].str.contains( \"POST\", na=False )]\n",
    "    \n",
    "    dataframe = dataframe[~dataframe['country'].isin( [\"Unspecified\"] )]\n",
    "\n",
    "    dataframe = dataframe[~dataframe['customer_id'].isin( [16446] )]\n",
    "\n",
    "    # data product_id \n",
    "    df_product_id = dataframe.drop( ['bill_no', 'quantity', 'date', 'price','customer_id', 'country'], axis=1 ).drop_duplicates( ignore_index=True)\n",
    "    df_product_id = pd.DataFrame( df_product_id ) \n",
    "    df_product_id['produto_id'] = pd.factorize( df_product_id['item_name'])[0]\n",
    "\n",
    "    # merge \n",
    "    dataframe = pd.merge( dataframe, df_product_id, on='item_name', how='left' )\n",
    "    \n",
    "    return dataframe\n",
    "\n",
    "# ================ Filtragem Country ================\n",
    "def data_filter( dataframe, country=False, Country=\"\" ):\n",
    "    if country:\n",
    "        dataframe = dataframe[dataframe[\"country\"] == Country]\n",
    "    return dataframe\n",
    "\n",
    "# ============ Tabela Purchase Product ============\n",
    "def create_purchase_product( dataframe, id=False ):\n",
    "    if id:\n",
    "        return dataframe.groupby( ['bill_no', \"produto_id\"] )['quantity'].sum().unstack().fillna(0). \\\n",
    "            applymap( lambda x: 1 if x > 0 else 0 )\n",
    "    else:\n",
    "        return dataframe.groupby( ['bill_no', 'item_name'] )['quantity'].sum().unstack().fillna(0). \\\n",
    "            applymap( lambda x: 1 if x > 0 else 0 ) \n",
    "    \n",
    "# ================ Check Produto ID ================\n",
    "def check_produto_id( dataframe, produto_id ):\n",
    "    product_name = dataframe[dataframe[\"produto_id\"] == produto_id][\"item_name\"].unique()[0]\n",
    "    return produto_id, product_name\n",
    "\n",
    "# =========  Apriori Algorithm & ARL Rules ========= \n",
    "def apriori_alg( dataframe, support_val=0.06 ):\n",
    "    inv_pro_df = create_purchase_product( dataframe, id=True )\n",
    "    frequent_itemsets = apriori( inv_pro_df, min_support=support_val, use_colnames=True )\n",
    "    rules = association_rules( frequent_itemsets, metric=\"support\", min_threshold=support_val )\n",
    "    sorted_rules =  rules.sort_values( \"support\", ascending=False ) \n",
    "    return sorted_rules\n",
    "    \n",
    "# ================ Rcommend Product ================         \n",
    "def recommend_product( dataframe, product_id, support_val= 0.06, num_of_products=5 ):\n",
    "    sorted_rules = apriori_alg( dataframe, support_val )\n",
    "    recommendation_list = []  \n",
    "    for idx, product in enumerate( sorted_rules[\"antecedents\"] ):\n",
    "        for j in list( product ):\n",
    "            if j == product_id:\n",
    "                recommendation_list.append( list( sorted_rules.iloc[idx][\"consequents\"] )[0] )\n",
    "                recommendation_list = list( dict.fromkeys(recommendation_list) )\n",
    "    return( recommendation_list[0:num_of_products] )"
   ]
  },
  {
   "cell_type": "code",
   "execution_count": 108,
   "id": "0efc88e7",
   "metadata": {
    "ExecuteTime": {
     "end_time": "2022-07-16T12:16:08.694080Z",
     "start_time": "2022-07-16T12:16:08.687477Z"
    }
   },
   "outputs": [],
   "source": [
    "def recommendation_system( dataframe,support_val=0.01, num_of_products= 5 ):\n",
    "    product_id = input( \"Insira o ID produto: \")\n",
    "    \n",
    "    if product_id in list( dataframe[\"produto_id\"].astype(\"str\").unique() ):\n",
    "        product_list = recommend_product( dataframe, int(product_id), support_val, num_of_products )\n",
    "        if len( product_list) == 0:\n",
    "            print( \"Não há recomendação para este produto!\" )\n",
    "        else:\n",
    "            print( \"Produtos relacionados com ID do produto:\" , product_id , \"podem ser vistos abaixo:\" )\n",
    "        \n",
    "            for i in range( 0, len( product_list[0:num_of_products] ) ):\n",
    "                print( check_produto_id(dataframe, product_list[i] ) )\n",
    "            \n",
    "    else:\n",
    "        print( \"ID do produto inválido, tente novamente!\" )"
   ]
  },
  {
   "cell_type": "markdown",
   "id": "4cdc8a3e",
   "metadata": {},
   "source": [
    "### Loading Data"
   ]
  },
  {
   "cell_type": "code",
   "execution_count": 91,
   "id": "3c66a3de",
   "metadata": {
    "ExecuteTime": {
     "end_time": "2022-07-16T12:12:58.333967Z",
     "start_time": "2022-07-16T12:12:23.510210Z"
    }
   },
   "outputs": [],
   "source": [
    "df_raw = pd.read_excel( '../data/raw/DataSet_Test.xlsx', usecols=\"A:G\" )"
   ]
  },
  {
   "cell_type": "markdown",
   "id": "e01f9874",
   "metadata": {},
   "source": [
    "### Data Preparation"
   ]
  },
  {
   "cell_type": "code",
   "execution_count": 92,
   "id": "ef9ef1f1",
   "metadata": {
    "ExecuteTime": {
     "end_time": "2022-07-16T12:12:58.791421Z",
     "start_time": "2022-07-16T12:12:58.335226Z"
    },
    "scrolled": true
   },
   "outputs": [
    {
     "data": {
      "text/html": [
       "<div>\n",
       "<style scoped>\n",
       "    .dataframe tbody tr th:only-of-type {\n",
       "        vertical-align: middle;\n",
       "    }\n",
       "\n",
       "    .dataframe tbody tr th {\n",
       "        vertical-align: top;\n",
       "    }\n",
       "\n",
       "    .dataframe thead th {\n",
       "        text-align: right;\n",
       "    }\n",
       "</style>\n",
       "<table border=\"1\" class=\"dataframe\">\n",
       "  <thead>\n",
       "    <tr style=\"text-align: right;\">\n",
       "      <th></th>\n",
       "      <th>bill_no</th>\n",
       "      <th>item_name</th>\n",
       "      <th>quantity</th>\n",
       "      <th>date</th>\n",
       "      <th>price</th>\n",
       "      <th>customer_id</th>\n",
       "      <th>country</th>\n",
       "      <th>produto_id</th>\n",
       "    </tr>\n",
       "  </thead>\n",
       "  <tbody>\n",
       "    <tr>\n",
       "      <th>1095</th>\n",
       "      <td>536527</td>\n",
       "      <td>SET OF 6 T-LIGHTS SANTA</td>\n",
       "      <td>6</td>\n",
       "      <td>2010-12-01 13:04:00</td>\n",
       "      <td>2.95</td>\n",
       "      <td>12662.0</td>\n",
       "      <td>Germany</td>\n",
       "      <td>244</td>\n",
       "    </tr>\n",
       "    <tr>\n",
       "      <th>1096</th>\n",
       "      <td>536527</td>\n",
       "      <td>ROTATING SILVER ANGELS T-LIGHT HLDR</td>\n",
       "      <td>6</td>\n",
       "      <td>2010-12-01 13:04:00</td>\n",
       "      <td>2.55</td>\n",
       "      <td>12662.0</td>\n",
       "      <td>Germany</td>\n",
       "      <td>317</td>\n",
       "    </tr>\n",
       "    <tr>\n",
       "      <th>1097</th>\n",
       "      <td>536527</td>\n",
       "      <td>MULTI COLOUR SILVER T-LIGHT HOLDER</td>\n",
       "      <td>12</td>\n",
       "      <td>2010-12-01 13:04:00</td>\n",
       "      <td>0.85</td>\n",
       "      <td>12662.0</td>\n",
       "      <td>Germany</td>\n",
       "      <td>634</td>\n",
       "    </tr>\n",
       "    <tr>\n",
       "      <th>1098</th>\n",
       "      <td>536527</td>\n",
       "      <td>5 HOOK HANGER MAGIC TOADSTOOL</td>\n",
       "      <td>12</td>\n",
       "      <td>2010-12-01 13:04:00</td>\n",
       "      <td>1.65</td>\n",
       "      <td>12662.0</td>\n",
       "      <td>Germany</td>\n",
       "      <td>150</td>\n",
       "    </tr>\n",
       "    <tr>\n",
       "      <th>1099</th>\n",
       "      <td>536527</td>\n",
       "      <td>3 HOOK HANGER MAGIC GARDEN</td>\n",
       "      <td>12</td>\n",
       "      <td>2010-12-01 13:04:00</td>\n",
       "      <td>1.95</td>\n",
       "      <td>12662.0</td>\n",
       "      <td>Germany</td>\n",
       "      <td>635</td>\n",
       "    </tr>\n",
       "  </tbody>\n",
       "</table>\n",
       "</div>"
      ],
      "text/plain": [
       "     bill_no                            item_name  quantity  \\\n",
       "1095  536527              SET OF 6 T-LIGHTS SANTA         6   \n",
       "1096  536527  ROTATING SILVER ANGELS T-LIGHT HLDR         6   \n",
       "1097  536527   MULTI COLOUR SILVER T-LIGHT HOLDER        12   \n",
       "1098  536527        5 HOOK HANGER MAGIC TOADSTOOL        12   \n",
       "1099  536527           3 HOOK HANGER MAGIC GARDEN        12   \n",
       "\n",
       "                    date  price  customer_id  country  produto_id  \n",
       "1095 2010-12-01 13:04:00   2.95      12662.0  Germany         244  \n",
       "1096 2010-12-01 13:04:00   2.55      12662.0  Germany         317  \n",
       "1097 2010-12-01 13:04:00   0.85      12662.0  Germany         634  \n",
       "1098 2010-12-01 13:04:00   1.65      12662.0  Germany         150  \n",
       "1099 2010-12-01 13:04:00   1.95      12662.0  Germany         635  "
      ]
     },
     "execution_count": 92,
     "metadata": {},
     "output_type": "execute_result"
    }
   ],
   "source": [
    "df1 = df_raw.copy()\n",
    "\n",
    "df1 = data_preparation( df1 )\n",
    "df_country = data_filter( df1, True ,'Germany' )\n",
    "df_country.head()"
   ]
  },
  {
   "cell_type": "markdown",
   "id": "5d4dd2ba",
   "metadata": {},
   "source": [
    "**Vamos lidar com os dados de vendas da Germany**"
   ]
  },
  {
   "cell_type": "markdown",
   "id": "11694f5a",
   "metadata": {},
   "source": [
    "### Recommendation System"
   ]
  },
  {
   "cell_type": "code",
   "execution_count": 109,
   "id": "e195211b",
   "metadata": {
    "ExecuteTime": {
     "end_time": "2022-07-16T12:16:16.314911Z",
     "start_time": "2022-07-16T12:16:11.981303Z"
    },
    "scrolled": true
   },
   "outputs": [
    {
     "name": "stdout",
     "output_type": "stream",
     "text": [
      "Insira o ID produto: 171\n"
     ]
    },
    {
     "name": "stderr",
     "output_type": "stream",
     "text": [
      "/opt/anaconda/envs/manfing/lib/python3.9/site-packages/mlxtend/frequent_patterns/fpcommon.py:111: DeprecationWarning: DataFrames with non-bool types result in worse computationalperformance and their support might be discontinued in the future.Please use a DataFrame with bool type\n",
      "  warnings.warn(\n"
     ]
    },
    {
     "name": "stdout",
     "output_type": "stream",
     "text": [
      "Produtos relacionados com ID do produto: 171 podem ser vistos abaixo:\n",
      "(64, 'SET/6 RED SPOTTY PAPER PLATES')\n",
      "(170, 'SET/20 RED RETROSPOT PAPER NAPKINS')\n",
      "(68, 'PACK OF 72 RETROSPOT CAKE CASES')\n",
      "(361, 'RED RETROSPOT PLATE')\n",
      "(603, 'PACK OF 20 NAPKINS PANTRY DESIGN')\n"
     ]
    }
   ],
   "source": [
    "recommendation_system( df_country )"
   ]
  },
  {
   "cell_type": "code",
   "execution_count": 110,
   "id": "521c8b7e",
   "metadata": {
    "ExecuteTime": {
     "end_time": "2022-07-16T12:16:27.549505Z",
     "start_time": "2022-07-16T12:16:24.015565Z"
    }
   },
   "outputs": [
    {
     "name": "stdout",
     "output_type": "stream",
     "text": [
      "Insira o ID produto: 9\n"
     ]
    },
    {
     "name": "stderr",
     "output_type": "stream",
     "text": [
      "/opt/anaconda/envs/manfing/lib/python3.9/site-packages/mlxtend/frequent_patterns/fpcommon.py:111: DeprecationWarning: DataFrames with non-bool types result in worse computationalperformance and their support might be discontinued in the future.Please use a DataFrame with bool type\n",
      "  warnings.warn(\n"
     ]
    },
    {
     "name": "stdout",
     "output_type": "stream",
     "text": [
      "Não há recomendação para este produto!\n"
     ]
    }
   ],
   "source": [
    "recommendation_system( df_country )"
   ]
  },
  {
   "cell_type": "code",
   "execution_count": 111,
   "id": "34fd2ec2",
   "metadata": {
    "ExecuteTime": {
     "end_time": "2022-07-16T12:16:36.061587Z",
     "start_time": "2022-07-16T12:16:31.280553Z"
    }
   },
   "outputs": [
    {
     "name": "stdout",
     "output_type": "stream",
     "text": [
      "Insira o ID produto: 64\n"
     ]
    },
    {
     "name": "stderr",
     "output_type": "stream",
     "text": [
      "/opt/anaconda/envs/manfing/lib/python3.9/site-packages/mlxtend/frequent_patterns/fpcommon.py:111: DeprecationWarning: DataFrames with non-bool types result in worse computationalperformance and their support might be discontinued in the future.Please use a DataFrame with bool type\n",
      "  warnings.warn(\n"
     ]
    },
    {
     "name": "stdout",
     "output_type": "stream",
     "text": [
      "Produtos relacionados com ID do produto: 64 podem ser vistos abaixo:\n",
      "(171, 'SET/6 RED SPOTTY PAPER CUPS')\n",
      "(170, 'SET/20 RED RETROSPOT PAPER NAPKINS')\n",
      "(68, 'PACK OF 72 RETROSPOT CAKE CASES')\n",
      "(34, 'ROUND SNACK BOXES SET OF4 WOODLAND')\n",
      "(1096, 'PACK OF 6 SKULL PAPER PLATES')\n"
     ]
    }
   ],
   "source": [
    "recommendation_system( df_country )"
   ]
  },
  {
   "cell_type": "code",
   "execution_count": 112,
   "id": "9e1ef146",
   "metadata": {
    "ExecuteTime": {
     "end_time": "2022-07-16T12:16:39.922271Z",
     "start_time": "2022-07-16T12:16:38.608505Z"
    }
   },
   "outputs": [
    {
     "name": "stdout",
     "output_type": "stream",
     "text": [
      "Insira o ID produto: 500\n",
      "ID do produto inválido, tente novamente!\n"
     ]
    }
   ],
   "source": [
    "recommendation_system( df_country )"
   ]
  },
  {
   "cell_type": "code",
   "execution_count": 113,
   "id": "222729e3",
   "metadata": {
    "ExecuteTime": {
     "end_time": "2022-07-16T12:16:47.702106Z",
     "start_time": "2022-07-16T12:16:43.473066Z"
    }
   },
   "outputs": [
    {
     "name": "stdout",
     "output_type": "stream",
     "text": [
      "Insira o ID produto: 34\n"
     ]
    },
    {
     "name": "stderr",
     "output_type": "stream",
     "text": [
      "/opt/anaconda/envs/manfing/lib/python3.9/site-packages/mlxtend/frequent_patterns/fpcommon.py:111: DeprecationWarning: DataFrames with non-bool types result in worse computationalperformance and their support might be discontinued in the future.Please use a DataFrame with bool type\n",
      "  warnings.warn(\n"
     ]
    },
    {
     "name": "stdout",
     "output_type": "stream",
     "text": [
      "Produtos relacionados com ID do produto: 34 podem ser vistos abaixo:\n",
      "(356, 'ROUND SNACK BOXES SET OF 4 FRUITS')\n",
      "(423, 'PLASTERS IN TIN WOODLAND ANIMALS')\n",
      "(35, 'SPACEBOY LUNCH BOX')\n",
      "(1215, 'WOODLAND CHARLOTTE BAG')\n",
      "(685, 'PLASTERS IN TIN CIRCUS PARADE')\n"
     ]
    }
   ],
   "source": [
    "recommendation_system( df_country )"
   ]
  },
  {
   "cell_type": "markdown",
   "id": "b4051e33",
   "metadata": {},
   "source": [
    "Aqui estão os resultados das **recomendações**. O Algoritmo sugeri combinação de produtos dentro das cestas de compras dos clientes analisados.\n",
    "\n",
    "Através dessas informações pode-se criar Campanhas e Técnicas de Vendas: Cross Selling / Descontos. "
   ]
  },
  {
   "cell_type": "code",
   "execution_count": null,
   "id": "ecf7e912",
   "metadata": {},
   "outputs": [],
   "source": []
  }
 ],
 "metadata": {
  "kernelspec": {
   "display_name": "Python 3 (ipykernel)",
   "language": "python",
   "name": "python3"
  },
  "language_info": {
   "codemirror_mode": {
    "name": "ipython",
    "version": 3
   },
   "file_extension": ".py",
   "mimetype": "text/x-python",
   "name": "python",
   "nbconvert_exporter": "python",
   "pygments_lexer": "ipython3",
   "version": "3.9.12"
  }
 },
 "nbformat": 4,
 "nbformat_minor": 5
}
